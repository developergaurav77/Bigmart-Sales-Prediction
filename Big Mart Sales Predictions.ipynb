{
 "cells": [
  {
   "cell_type": "code",
   "execution_count": 193,
   "id": "3d006253-c30d-4d46-9ac2-0ae62660d342",
   "metadata": {},
   "outputs": [],
   "source": [
    "import numpy as np\n",
    "import pandas as pd\n",
    "import matplotlib.pyplot as plt\n",
    "import seaborn as sns\n",
    "%matplotlib inline"
   ]
  },
  {
   "cell_type": "code",
   "execution_count": 194,
   "id": "9f42eac6-8ecc-49bb-bcd3-963d2843eae0",
   "metadata": {},
   "outputs": [],
   "source": [
    "sales_train = pd.read_csv('Data/train.csv')\n",
    "sales_test = pd.read_csv('Data/test.csv')"
   ]
  },
  {
   "cell_type": "code",
   "execution_count": 195,
   "id": "a36faf46-93ce-425e-88e8-8c8c3c36eb6a",
   "metadata": {},
   "outputs": [
    {
     "data": {
      "text/html": [
       "<div>\n",
       "<style scoped>\n",
       "    .dataframe tbody tr th:only-of-type {\n",
       "        vertical-align: middle;\n",
       "    }\n",
       "\n",
       "    .dataframe tbody tr th {\n",
       "        vertical-align: top;\n",
       "    }\n",
       "\n",
       "    .dataframe thead th {\n",
       "        text-align: right;\n",
       "    }\n",
       "</style>\n",
       "<table border=\"1\" class=\"dataframe\">\n",
       "  <thead>\n",
       "    <tr style=\"text-align: right;\">\n",
       "      <th></th>\n",
       "      <th>Item_Identifier</th>\n",
       "      <th>Item_Weight</th>\n",
       "      <th>Item_Fat_Content</th>\n",
       "      <th>Item_Visibility</th>\n",
       "      <th>Item_Type</th>\n",
       "      <th>Item_MRP</th>\n",
       "      <th>Outlet_Identifier</th>\n",
       "      <th>Outlet_Establishment_Year</th>\n",
       "      <th>Outlet_Size</th>\n",
       "      <th>Outlet_Location_Type</th>\n",
       "      <th>Outlet_Type</th>\n",
       "      <th>Item_Outlet_Sales</th>\n",
       "    </tr>\n",
       "  </thead>\n",
       "  <tbody>\n",
       "    <tr>\n",
       "      <th>0</th>\n",
       "      <td>FDA15</td>\n",
       "      <td>9.30</td>\n",
       "      <td>Low Fat</td>\n",
       "      <td>0.016047</td>\n",
       "      <td>Dairy</td>\n",
       "      <td>249.8092</td>\n",
       "      <td>OUT049</td>\n",
       "      <td>1999</td>\n",
       "      <td>Medium</td>\n",
       "      <td>Tier 1</td>\n",
       "      <td>Supermarket Type1</td>\n",
       "      <td>3735.1380</td>\n",
       "    </tr>\n",
       "    <tr>\n",
       "      <th>1</th>\n",
       "      <td>DRC01</td>\n",
       "      <td>5.92</td>\n",
       "      <td>Regular</td>\n",
       "      <td>0.019278</td>\n",
       "      <td>Soft Drinks</td>\n",
       "      <td>48.2692</td>\n",
       "      <td>OUT018</td>\n",
       "      <td>2009</td>\n",
       "      <td>Medium</td>\n",
       "      <td>Tier 3</td>\n",
       "      <td>Supermarket Type2</td>\n",
       "      <td>443.4228</td>\n",
       "    </tr>\n",
       "    <tr>\n",
       "      <th>2</th>\n",
       "      <td>FDN15</td>\n",
       "      <td>17.50</td>\n",
       "      <td>Low Fat</td>\n",
       "      <td>0.016760</td>\n",
       "      <td>Meat</td>\n",
       "      <td>141.6180</td>\n",
       "      <td>OUT049</td>\n",
       "      <td>1999</td>\n",
       "      <td>Medium</td>\n",
       "      <td>Tier 1</td>\n",
       "      <td>Supermarket Type1</td>\n",
       "      <td>2097.2700</td>\n",
       "    </tr>\n",
       "    <tr>\n",
       "      <th>3</th>\n",
       "      <td>FDX07</td>\n",
       "      <td>19.20</td>\n",
       "      <td>Regular</td>\n",
       "      <td>0.000000</td>\n",
       "      <td>Fruits and Vegetables</td>\n",
       "      <td>182.0950</td>\n",
       "      <td>OUT010</td>\n",
       "      <td>1998</td>\n",
       "      <td>NaN</td>\n",
       "      <td>Tier 3</td>\n",
       "      <td>Grocery Store</td>\n",
       "      <td>732.3800</td>\n",
       "    </tr>\n",
       "    <tr>\n",
       "      <th>4</th>\n",
       "      <td>NCD19</td>\n",
       "      <td>8.93</td>\n",
       "      <td>Low Fat</td>\n",
       "      <td>0.000000</td>\n",
       "      <td>Household</td>\n",
       "      <td>53.8614</td>\n",
       "      <td>OUT013</td>\n",
       "      <td>1987</td>\n",
       "      <td>High</td>\n",
       "      <td>Tier 3</td>\n",
       "      <td>Supermarket Type1</td>\n",
       "      <td>994.7052</td>\n",
       "    </tr>\n",
       "  </tbody>\n",
       "</table>\n",
       "</div>"
      ],
      "text/plain": [
       "  Item_Identifier  Item_Weight Item_Fat_Content  Item_Visibility  \\\n",
       "0           FDA15         9.30          Low Fat         0.016047   \n",
       "1           DRC01         5.92          Regular         0.019278   \n",
       "2           FDN15        17.50          Low Fat         0.016760   \n",
       "3           FDX07        19.20          Regular         0.000000   \n",
       "4           NCD19         8.93          Low Fat         0.000000   \n",
       "\n",
       "               Item_Type  Item_MRP Outlet_Identifier  \\\n",
       "0                  Dairy  249.8092            OUT049   \n",
       "1            Soft Drinks   48.2692            OUT018   \n",
       "2                   Meat  141.6180            OUT049   \n",
       "3  Fruits and Vegetables  182.0950            OUT010   \n",
       "4              Household   53.8614            OUT013   \n",
       "\n",
       "   Outlet_Establishment_Year Outlet_Size Outlet_Location_Type  \\\n",
       "0                       1999      Medium               Tier 1   \n",
       "1                       2009      Medium               Tier 3   \n",
       "2                       1999      Medium               Tier 1   \n",
       "3                       1998         NaN               Tier 3   \n",
       "4                       1987        High               Tier 3   \n",
       "\n",
       "         Outlet_Type  Item_Outlet_Sales  \n",
       "0  Supermarket Type1          3735.1380  \n",
       "1  Supermarket Type2           443.4228  \n",
       "2  Supermarket Type1          2097.2700  \n",
       "3      Grocery Store           732.3800  \n",
       "4  Supermarket Type1           994.7052  "
      ]
     },
     "execution_count": 195,
     "metadata": {},
     "output_type": "execute_result"
    }
   ],
   "source": [
    "sales_train.head()"
   ]
  },
  {
   "cell_type": "code",
   "execution_count": 196,
   "id": "6cbdba1d-c2f4-418e-b02f-52ab7022aa76",
   "metadata": {},
   "outputs": [
    {
     "name": "stdout",
     "output_type": "stream",
     "text": [
      "<class 'pandas.core.frame.DataFrame'>\n",
      "RangeIndex: 8523 entries, 0 to 8522\n",
      "Data columns (total 12 columns):\n",
      "Item_Identifier              8523 non-null object\n",
      "Item_Weight                  7060 non-null float64\n",
      "Item_Fat_Content             8523 non-null object\n",
      "Item_Visibility              8523 non-null float64\n",
      "Item_Type                    8523 non-null object\n",
      "Item_MRP                     8523 non-null float64\n",
      "Outlet_Identifier            8523 non-null object\n",
      "Outlet_Establishment_Year    8523 non-null int64\n",
      "Outlet_Size                  6113 non-null object\n",
      "Outlet_Location_Type         8523 non-null object\n",
      "Outlet_Type                  8523 non-null object\n",
      "Item_Outlet_Sales            8523 non-null float64\n",
      "dtypes: float64(4), int64(1), object(7)\n",
      "memory usage: 799.2+ KB\n"
     ]
    }
   ],
   "source": [
    "sales_train.info()"
   ]
  },
  {
   "cell_type": "code",
   "execution_count": 197,
   "id": "d93bd17b-7b9d-489c-b7ab-2f1c9036b56b",
   "metadata": {},
   "outputs": [
    {
     "data": {
      "text/plain": [
       "Item_Identifier                 0\n",
       "Item_Weight                  1463\n",
       "Item_Fat_Content                0\n",
       "Item_Visibility                 0\n",
       "Item_Type                       0\n",
       "Item_MRP                        0\n",
       "Outlet_Identifier               0\n",
       "Outlet_Establishment_Year       0\n",
       "Outlet_Size                  2410\n",
       "Outlet_Location_Type            0\n",
       "Outlet_Type                     0\n",
       "Item_Outlet_Sales               0\n",
       "dtype: int64"
      ]
     },
     "execution_count": 197,
     "metadata": {},
     "output_type": "execute_result"
    }
   ],
   "source": [
    "#checking if dataframe contains null value\n",
    "sales_train.isnull().sum()"
   ]
  },
  {
   "cell_type": "code",
   "execution_count": 198,
   "id": "367bae8f-45db-40a8-993a-54713f5be1c1",
   "metadata": {},
   "outputs": [
    {
     "data": {
      "text/plain": [
       "Item_Identifier                 0\n",
       "Item_Weight                   976\n",
       "Item_Fat_Content                0\n",
       "Item_Visibility                 0\n",
       "Item_Type                       0\n",
       "Item_MRP                        0\n",
       "Outlet_Identifier               0\n",
       "Outlet_Establishment_Year       0\n",
       "Outlet_Size                  1606\n",
       "Outlet_Location_Type            0\n",
       "Outlet_Type                     0\n",
       "dtype: int64"
      ]
     },
     "execution_count": 198,
     "metadata": {},
     "output_type": "execute_result"
    }
   ],
   "source": [
    "#item weight and outlet_size size feature contains missing values\n",
    "sales_test.isnull().sum()"
   ]
  },
  {
   "cell_type": "code",
   "execution_count": 199,
   "id": "2c3e55cb-5031-4498-9826-55e398cc5c63",
   "metadata": {},
   "outputs": [
    {
     "data": {
      "text/html": [
       "<div>\n",
       "<style scoped>\n",
       "    .dataframe tbody tr th:only-of-type {\n",
       "        vertical-align: middle;\n",
       "    }\n",
       "\n",
       "    .dataframe tbody tr th {\n",
       "        vertical-align: top;\n",
       "    }\n",
       "\n",
       "    .dataframe thead th {\n",
       "        text-align: right;\n",
       "    }\n",
       "</style>\n",
       "<table border=\"1\" class=\"dataframe\">\n",
       "  <thead>\n",
       "    <tr style=\"text-align: right;\">\n",
       "      <th></th>\n",
       "      <th>Item_Weight</th>\n",
       "      <th>Item_Visibility</th>\n",
       "      <th>Item_MRP</th>\n",
       "      <th>Outlet_Establishment_Year</th>\n",
       "      <th>Item_Outlet_Sales</th>\n",
       "    </tr>\n",
       "  </thead>\n",
       "  <tbody>\n",
       "    <tr>\n",
       "      <th>count</th>\n",
       "      <td>7060.000000</td>\n",
       "      <td>8523.000000</td>\n",
       "      <td>8523.000000</td>\n",
       "      <td>8523.000000</td>\n",
       "      <td>8523.000000</td>\n",
       "    </tr>\n",
       "    <tr>\n",
       "      <th>mean</th>\n",
       "      <td>12.857645</td>\n",
       "      <td>0.066132</td>\n",
       "      <td>140.992782</td>\n",
       "      <td>1997.831867</td>\n",
       "      <td>2181.288914</td>\n",
       "    </tr>\n",
       "    <tr>\n",
       "      <th>std</th>\n",
       "      <td>4.643456</td>\n",
       "      <td>0.051598</td>\n",
       "      <td>62.275067</td>\n",
       "      <td>8.371760</td>\n",
       "      <td>1706.499616</td>\n",
       "    </tr>\n",
       "    <tr>\n",
       "      <th>min</th>\n",
       "      <td>4.555000</td>\n",
       "      <td>0.000000</td>\n",
       "      <td>31.290000</td>\n",
       "      <td>1985.000000</td>\n",
       "      <td>33.290000</td>\n",
       "    </tr>\n",
       "    <tr>\n",
       "      <th>25%</th>\n",
       "      <td>8.773750</td>\n",
       "      <td>0.026989</td>\n",
       "      <td>93.826500</td>\n",
       "      <td>1987.000000</td>\n",
       "      <td>834.247400</td>\n",
       "    </tr>\n",
       "    <tr>\n",
       "      <th>50%</th>\n",
       "      <td>12.600000</td>\n",
       "      <td>0.053931</td>\n",
       "      <td>143.012800</td>\n",
       "      <td>1999.000000</td>\n",
       "      <td>1794.331000</td>\n",
       "    </tr>\n",
       "    <tr>\n",
       "      <th>75%</th>\n",
       "      <td>16.850000</td>\n",
       "      <td>0.094585</td>\n",
       "      <td>185.643700</td>\n",
       "      <td>2004.000000</td>\n",
       "      <td>3101.296400</td>\n",
       "    </tr>\n",
       "    <tr>\n",
       "      <th>max</th>\n",
       "      <td>21.350000</td>\n",
       "      <td>0.328391</td>\n",
       "      <td>266.888400</td>\n",
       "      <td>2009.000000</td>\n",
       "      <td>13086.964800</td>\n",
       "    </tr>\n",
       "  </tbody>\n",
       "</table>\n",
       "</div>"
      ],
      "text/plain": [
       "       Item_Weight  Item_Visibility     Item_MRP  Outlet_Establishment_Year  \\\n",
       "count  7060.000000      8523.000000  8523.000000                8523.000000   \n",
       "mean     12.857645         0.066132   140.992782                1997.831867   \n",
       "std       4.643456         0.051598    62.275067                   8.371760   \n",
       "min       4.555000         0.000000    31.290000                1985.000000   \n",
       "25%       8.773750         0.026989    93.826500                1987.000000   \n",
       "50%      12.600000         0.053931   143.012800                1999.000000   \n",
       "75%      16.850000         0.094585   185.643700                2004.000000   \n",
       "max      21.350000         0.328391   266.888400                2009.000000   \n",
       "\n",
       "       Item_Outlet_Sales  \n",
       "count        8523.000000  \n",
       "mean         2181.288914  \n",
       "std          1706.499616  \n",
       "min            33.290000  \n",
       "25%           834.247400  \n",
       "50%          1794.331000  \n",
       "75%          3101.296400  \n",
       "max         13086.964800  "
      ]
     },
     "execution_count": 199,
     "metadata": {},
     "output_type": "execute_result"
    }
   ],
   "source": [
    "sales_train.describe()"
   ]
  },
  {
   "cell_type": "code",
   "execution_count": 200,
   "id": "975dcf77-fd68-43e5-8bae-0d659159d05e",
   "metadata": {},
   "outputs": [],
   "source": [
    "#filling missing value of Item_Weight column with its mean value in both train and test dataset\n",
    "\n",
    "sales_train['Item_Weight'].fillna(value=sales_train['Item_Weight'].mean(),inplace=True)\n",
    "sales_test['Item_Weight'].fillna(value=sales_test['Item_Weight'].mean(),inplace=True)"
   ]
  },
  {
   "cell_type": "code",
   "execution_count": 201,
   "id": "15b8811a-5671-49b6-bb4f-3114be61dea2",
   "metadata": {},
   "outputs": [
    {
     "data": {
      "text/plain": [
       "Item_Identifier                 0\n",
       "Item_Weight                     0\n",
       "Item_Fat_Content                0\n",
       "Item_Visibility                 0\n",
       "Item_Type                       0\n",
       "Item_MRP                        0\n",
       "Outlet_Identifier               0\n",
       "Outlet_Establishment_Year       0\n",
       "Outlet_Size                  2410\n",
       "Outlet_Location_Type            0\n",
       "Outlet_Type                     0\n",
       "Item_Outlet_Sales               0\n",
       "dtype: int64"
      ]
     },
     "execution_count": 201,
     "metadata": {},
     "output_type": "execute_result"
    }
   ],
   "source": [
    "sales_train.isnull().sum()"
   ]
  },
  {
   "cell_type": "code",
   "execution_count": 202,
   "id": "836371d0-2af3-4d27-a59f-853513e44182",
   "metadata": {},
   "outputs": [
    {
     "data": {
      "text/plain": [
       "0       Medium\n",
       "1       Medium\n",
       "2       Medium\n",
       "3          NaN\n",
       "4         High\n",
       "         ...  \n",
       "8518      High\n",
       "8519       NaN\n",
       "8520     Small\n",
       "8521    Medium\n",
       "8522     Small\n",
       "Name: Outlet_Size, Length: 8523, dtype: object"
      ]
     },
     "execution_count": 202,
     "metadata": {},
     "output_type": "execute_result"
    }
   ],
   "source": [
    "#now exploring Outlet_Size\n",
    "sales_train['Outlet_Size']"
   ]
  },
  {
   "cell_type": "code",
   "execution_count": 203,
   "id": "1ee7cab3-0779-4ad8-ae60-54f438a6e020",
   "metadata": {},
   "outputs": [
    {
     "data": {
      "text/plain": [
       "Medium    2793\n",
       "Small     2388\n",
       "High       932\n",
       "Name: Outlet_Size, dtype: int64"
      ]
     },
     "execution_count": 203,
     "metadata": {},
     "output_type": "execute_result"
    }
   ],
   "source": [
    "#since Outlet_Size is categorical data so filling its null value with mode(highest number of value: medium)\n",
    "sales_train['Outlet_Size'].value_counts()"
   ]
  },
  {
   "cell_type": "code",
   "execution_count": 204,
   "id": "a3bdc436-e076-4603-8369-0a61ea545c7a",
   "metadata": {},
   "outputs": [
    {
     "data": {
      "text/plain": [
       "0    Medium\n",
       "dtype: object"
      ]
     },
     "execution_count": 204,
     "metadata": {},
     "output_type": "execute_result"
    }
   ],
   "source": [
    "sales_train['Outlet_Size'].mode()"
   ]
  },
  {
   "cell_type": "code",
   "execution_count": 205,
   "id": "a219ed38-a271-4851-bd8e-fcfc0dd1f747",
   "metadata": {},
   "outputs": [],
   "source": [
    "sales_train['Outlet_Size'].fillna(value=sales_train['Outlet_Size'].mode()[0],inplace=True)\n",
    "sales_test['Outlet_Size'].fillna(value=sales_train['Outlet_Size'].mode()[0],inplace=True)"
   ]
  },
  {
   "cell_type": "code",
   "execution_count": 206,
   "id": "78bc6ddb-5254-4ad4-8cc5-241f8a52c358",
   "metadata": {},
   "outputs": [
    {
     "data": {
      "text/plain": [
       "Item_Identifier              0\n",
       "Item_Weight                  0\n",
       "Item_Fat_Content             0\n",
       "Item_Visibility              0\n",
       "Item_Type                    0\n",
       "Item_MRP                     0\n",
       "Outlet_Identifier            0\n",
       "Outlet_Establishment_Year    0\n",
       "Outlet_Size                  0\n",
       "Outlet_Location_Type         0\n",
       "Outlet_Type                  0\n",
       "Item_Outlet_Sales            0\n",
       "dtype: int64"
      ]
     },
     "execution_count": 206,
     "metadata": {},
     "output_type": "execute_result"
    }
   ],
   "source": [
    "sales_train.isnull().sum()"
   ]
  },
  {
   "cell_type": "code",
   "execution_count": 207,
   "id": "5dcc509a-4ff4-48ed-8b7e-f1e18aa4e72b",
   "metadata": {},
   "outputs": [
    {
     "data": {
      "text/plain": [
       "Item_Identifier              0\n",
       "Item_Weight                  0\n",
       "Item_Fat_Content             0\n",
       "Item_Visibility              0\n",
       "Item_Type                    0\n",
       "Item_MRP                     0\n",
       "Outlet_Identifier            0\n",
       "Outlet_Establishment_Year    0\n",
       "Outlet_Size                  0\n",
       "Outlet_Location_Type         0\n",
       "Outlet_Type                  0\n",
       "dtype: int64"
      ]
     },
     "execution_count": 207,
     "metadata": {},
     "output_type": "execute_result"
    }
   ],
   "source": [
    "sales_test.isnull().sum()"
   ]
  },
  {
   "cell_type": "code",
   "execution_count": 208,
   "id": "2a709090-bd10-45ac-a65f-b175c3ce45cb",
   "metadata": {},
   "outputs": [
    {
     "data": {
      "text/html": [
       "<div>\n",
       "<style scoped>\n",
       "    .dataframe tbody tr th:only-of-type {\n",
       "        vertical-align: middle;\n",
       "    }\n",
       "\n",
       "    .dataframe tbody tr th {\n",
       "        vertical-align: top;\n",
       "    }\n",
       "\n",
       "    .dataframe thead th {\n",
       "        text-align: right;\n",
       "    }\n",
       "</style>\n",
       "<table border=\"1\" class=\"dataframe\">\n",
       "  <thead>\n",
       "    <tr style=\"text-align: right;\">\n",
       "      <th></th>\n",
       "      <th>Item_Identifier</th>\n",
       "      <th>Item_Weight</th>\n",
       "      <th>Item_Fat_Content</th>\n",
       "      <th>Item_Visibility</th>\n",
       "      <th>Item_Type</th>\n",
       "      <th>Item_MRP</th>\n",
       "      <th>Outlet_Identifier</th>\n",
       "      <th>Outlet_Establishment_Year</th>\n",
       "      <th>Outlet_Size</th>\n",
       "      <th>Outlet_Location_Type</th>\n",
       "      <th>Outlet_Type</th>\n",
       "      <th>Item_Outlet_Sales</th>\n",
       "    </tr>\n",
       "  </thead>\n",
       "  <tbody>\n",
       "    <tr>\n",
       "      <th>0</th>\n",
       "      <td>FDA15</td>\n",
       "      <td>9.300</td>\n",
       "      <td>Low Fat</td>\n",
       "      <td>0.016047</td>\n",
       "      <td>Dairy</td>\n",
       "      <td>249.8092</td>\n",
       "      <td>OUT049</td>\n",
       "      <td>1999</td>\n",
       "      <td>Medium</td>\n",
       "      <td>Tier 1</td>\n",
       "      <td>Supermarket Type1</td>\n",
       "      <td>3735.1380</td>\n",
       "    </tr>\n",
       "    <tr>\n",
       "      <th>1</th>\n",
       "      <td>DRC01</td>\n",
       "      <td>5.920</td>\n",
       "      <td>Regular</td>\n",
       "      <td>0.019278</td>\n",
       "      <td>Soft Drinks</td>\n",
       "      <td>48.2692</td>\n",
       "      <td>OUT018</td>\n",
       "      <td>2009</td>\n",
       "      <td>Medium</td>\n",
       "      <td>Tier 3</td>\n",
       "      <td>Supermarket Type2</td>\n",
       "      <td>443.4228</td>\n",
       "    </tr>\n",
       "    <tr>\n",
       "      <th>2</th>\n",
       "      <td>FDN15</td>\n",
       "      <td>17.500</td>\n",
       "      <td>Low Fat</td>\n",
       "      <td>0.016760</td>\n",
       "      <td>Meat</td>\n",
       "      <td>141.6180</td>\n",
       "      <td>OUT049</td>\n",
       "      <td>1999</td>\n",
       "      <td>Medium</td>\n",
       "      <td>Tier 1</td>\n",
       "      <td>Supermarket Type1</td>\n",
       "      <td>2097.2700</td>\n",
       "    </tr>\n",
       "    <tr>\n",
       "      <th>3</th>\n",
       "      <td>FDX07</td>\n",
       "      <td>19.200</td>\n",
       "      <td>Regular</td>\n",
       "      <td>0.000000</td>\n",
       "      <td>Fruits and Vegetables</td>\n",
       "      <td>182.0950</td>\n",
       "      <td>OUT010</td>\n",
       "      <td>1998</td>\n",
       "      <td>Medium</td>\n",
       "      <td>Tier 3</td>\n",
       "      <td>Grocery Store</td>\n",
       "      <td>732.3800</td>\n",
       "    </tr>\n",
       "    <tr>\n",
       "      <th>4</th>\n",
       "      <td>NCD19</td>\n",
       "      <td>8.930</td>\n",
       "      <td>Low Fat</td>\n",
       "      <td>0.000000</td>\n",
       "      <td>Household</td>\n",
       "      <td>53.8614</td>\n",
       "      <td>OUT013</td>\n",
       "      <td>1987</td>\n",
       "      <td>High</td>\n",
       "      <td>Tier 3</td>\n",
       "      <td>Supermarket Type1</td>\n",
       "      <td>994.7052</td>\n",
       "    </tr>\n",
       "    <tr>\n",
       "      <th>...</th>\n",
       "      <td>...</td>\n",
       "      <td>...</td>\n",
       "      <td>...</td>\n",
       "      <td>...</td>\n",
       "      <td>...</td>\n",
       "      <td>...</td>\n",
       "      <td>...</td>\n",
       "      <td>...</td>\n",
       "      <td>...</td>\n",
       "      <td>...</td>\n",
       "      <td>...</td>\n",
       "      <td>...</td>\n",
       "    </tr>\n",
       "    <tr>\n",
       "      <th>8518</th>\n",
       "      <td>FDF22</td>\n",
       "      <td>6.865</td>\n",
       "      <td>Low Fat</td>\n",
       "      <td>0.056783</td>\n",
       "      <td>Snack Foods</td>\n",
       "      <td>214.5218</td>\n",
       "      <td>OUT013</td>\n",
       "      <td>1987</td>\n",
       "      <td>High</td>\n",
       "      <td>Tier 3</td>\n",
       "      <td>Supermarket Type1</td>\n",
       "      <td>2778.3834</td>\n",
       "    </tr>\n",
       "    <tr>\n",
       "      <th>8519</th>\n",
       "      <td>FDS36</td>\n",
       "      <td>8.380</td>\n",
       "      <td>Regular</td>\n",
       "      <td>0.046982</td>\n",
       "      <td>Baking Goods</td>\n",
       "      <td>108.1570</td>\n",
       "      <td>OUT045</td>\n",
       "      <td>2002</td>\n",
       "      <td>Medium</td>\n",
       "      <td>Tier 2</td>\n",
       "      <td>Supermarket Type1</td>\n",
       "      <td>549.2850</td>\n",
       "    </tr>\n",
       "    <tr>\n",
       "      <th>8520</th>\n",
       "      <td>NCJ29</td>\n",
       "      <td>10.600</td>\n",
       "      <td>Low Fat</td>\n",
       "      <td>0.035186</td>\n",
       "      <td>Health and Hygiene</td>\n",
       "      <td>85.1224</td>\n",
       "      <td>OUT035</td>\n",
       "      <td>2004</td>\n",
       "      <td>Small</td>\n",
       "      <td>Tier 2</td>\n",
       "      <td>Supermarket Type1</td>\n",
       "      <td>1193.1136</td>\n",
       "    </tr>\n",
       "    <tr>\n",
       "      <th>8521</th>\n",
       "      <td>FDN46</td>\n",
       "      <td>7.210</td>\n",
       "      <td>Regular</td>\n",
       "      <td>0.145221</td>\n",
       "      <td>Snack Foods</td>\n",
       "      <td>103.1332</td>\n",
       "      <td>OUT018</td>\n",
       "      <td>2009</td>\n",
       "      <td>Medium</td>\n",
       "      <td>Tier 3</td>\n",
       "      <td>Supermarket Type2</td>\n",
       "      <td>1845.5976</td>\n",
       "    </tr>\n",
       "    <tr>\n",
       "      <th>8522</th>\n",
       "      <td>DRG01</td>\n",
       "      <td>14.800</td>\n",
       "      <td>Low Fat</td>\n",
       "      <td>0.044878</td>\n",
       "      <td>Soft Drinks</td>\n",
       "      <td>75.4670</td>\n",
       "      <td>OUT046</td>\n",
       "      <td>1997</td>\n",
       "      <td>Small</td>\n",
       "      <td>Tier 1</td>\n",
       "      <td>Supermarket Type1</td>\n",
       "      <td>765.6700</td>\n",
       "    </tr>\n",
       "  </tbody>\n",
       "</table>\n",
       "<p>8523 rows × 12 columns</p>\n",
       "</div>"
      ],
      "text/plain": [
       "     Item_Identifier  Item_Weight Item_Fat_Content  Item_Visibility  \\\n",
       "0              FDA15        9.300          Low Fat         0.016047   \n",
       "1              DRC01        5.920          Regular         0.019278   \n",
       "2              FDN15       17.500          Low Fat         0.016760   \n",
       "3              FDX07       19.200          Regular         0.000000   \n",
       "4              NCD19        8.930          Low Fat         0.000000   \n",
       "...              ...          ...              ...              ...   \n",
       "8518           FDF22        6.865          Low Fat         0.056783   \n",
       "8519           FDS36        8.380          Regular         0.046982   \n",
       "8520           NCJ29       10.600          Low Fat         0.035186   \n",
       "8521           FDN46        7.210          Regular         0.145221   \n",
       "8522           DRG01       14.800          Low Fat         0.044878   \n",
       "\n",
       "                  Item_Type  Item_MRP Outlet_Identifier  \\\n",
       "0                     Dairy  249.8092            OUT049   \n",
       "1               Soft Drinks   48.2692            OUT018   \n",
       "2                      Meat  141.6180            OUT049   \n",
       "3     Fruits and Vegetables  182.0950            OUT010   \n",
       "4                 Household   53.8614            OUT013   \n",
       "...                     ...       ...               ...   \n",
       "8518            Snack Foods  214.5218            OUT013   \n",
       "8519           Baking Goods  108.1570            OUT045   \n",
       "8520     Health and Hygiene   85.1224            OUT035   \n",
       "8521            Snack Foods  103.1332            OUT018   \n",
       "8522            Soft Drinks   75.4670            OUT046   \n",
       "\n",
       "      Outlet_Establishment_Year Outlet_Size Outlet_Location_Type  \\\n",
       "0                          1999      Medium               Tier 1   \n",
       "1                          2009      Medium               Tier 3   \n",
       "2                          1999      Medium               Tier 1   \n",
       "3                          1998      Medium               Tier 3   \n",
       "4                          1987        High               Tier 3   \n",
       "...                         ...         ...                  ...   \n",
       "8518                       1987        High               Tier 3   \n",
       "8519                       2002      Medium               Tier 2   \n",
       "8520                       2004       Small               Tier 2   \n",
       "8521                       2009      Medium               Tier 3   \n",
       "8522                       1997       Small               Tier 1   \n",
       "\n",
       "            Outlet_Type  Item_Outlet_Sales  \n",
       "0     Supermarket Type1          3735.1380  \n",
       "1     Supermarket Type2           443.4228  \n",
       "2     Supermarket Type1          2097.2700  \n",
       "3         Grocery Store           732.3800  \n",
       "4     Supermarket Type1           994.7052  \n",
       "...                 ...                ...  \n",
       "8518  Supermarket Type1          2778.3834  \n",
       "8519  Supermarket Type1           549.2850  \n",
       "8520  Supermarket Type1          1193.1136  \n",
       "8521  Supermarket Type2          1845.5976  \n",
       "8522  Supermarket Type1           765.6700  \n",
       "\n",
       "[8523 rows x 12 columns]"
      ]
     },
     "execution_count": 208,
     "metadata": {},
     "output_type": "execute_result"
    }
   ],
   "source": [
    "sales_train"
   ]
  },
  {
   "cell_type": "code",
   "execution_count": 209,
   "id": "9dcc9b67-d703-4d6b-9db2-91cbf1f245cb",
   "metadata": {},
   "outputs": [],
   "source": [
    "#droping unnecessary features\n",
    "sales_train.drop(['Item_Identifier','Outlet_Identifier'],axis=1,inplace=True)\n",
    "sales_test.drop(['Item_Identifier','Outlet_Identifier'],axis=1,inplace=True)"
   ]
  },
  {
   "cell_type": "code",
   "execution_count": 210,
   "id": "196e65c0-deb8-4a93-819f-ad649a015ba7",
   "metadata": {},
   "outputs": [
    {
     "data": {
      "text/html": [
       "<div>\n",
       "<style scoped>\n",
       "    .dataframe tbody tr th:only-of-type {\n",
       "        vertical-align: middle;\n",
       "    }\n",
       "\n",
       "    .dataframe tbody tr th {\n",
       "        vertical-align: top;\n",
       "    }\n",
       "\n",
       "    .dataframe thead th {\n",
       "        text-align: right;\n",
       "    }\n",
       "</style>\n",
       "<table border=\"1\" class=\"dataframe\">\n",
       "  <thead>\n",
       "    <tr style=\"text-align: right;\">\n",
       "      <th></th>\n",
       "      <th>Item_Weight</th>\n",
       "      <th>Item_Fat_Content</th>\n",
       "      <th>Item_Visibility</th>\n",
       "      <th>Item_Type</th>\n",
       "      <th>Item_MRP</th>\n",
       "      <th>Outlet_Establishment_Year</th>\n",
       "      <th>Outlet_Size</th>\n",
       "      <th>Outlet_Location_Type</th>\n",
       "      <th>Outlet_Type</th>\n",
       "      <th>Item_Outlet_Sales</th>\n",
       "    </tr>\n",
       "  </thead>\n",
       "  <tbody>\n",
       "    <tr>\n",
       "      <th>0</th>\n",
       "      <td>9.300000</td>\n",
       "      <td>Low Fat</td>\n",
       "      <td>0.016047</td>\n",
       "      <td>Dairy</td>\n",
       "      <td>249.8092</td>\n",
       "      <td>1999</td>\n",
       "      <td>Medium</td>\n",
       "      <td>Tier 1</td>\n",
       "      <td>Supermarket Type1</td>\n",
       "      <td>3735.1380</td>\n",
       "    </tr>\n",
       "    <tr>\n",
       "      <th>1</th>\n",
       "      <td>5.920000</td>\n",
       "      <td>Regular</td>\n",
       "      <td>0.019278</td>\n",
       "      <td>Soft Drinks</td>\n",
       "      <td>48.2692</td>\n",
       "      <td>2009</td>\n",
       "      <td>Medium</td>\n",
       "      <td>Tier 3</td>\n",
       "      <td>Supermarket Type2</td>\n",
       "      <td>443.4228</td>\n",
       "    </tr>\n",
       "    <tr>\n",
       "      <th>2</th>\n",
       "      <td>17.500000</td>\n",
       "      <td>Low Fat</td>\n",
       "      <td>0.016760</td>\n",
       "      <td>Meat</td>\n",
       "      <td>141.6180</td>\n",
       "      <td>1999</td>\n",
       "      <td>Medium</td>\n",
       "      <td>Tier 1</td>\n",
       "      <td>Supermarket Type1</td>\n",
       "      <td>2097.2700</td>\n",
       "    </tr>\n",
       "    <tr>\n",
       "      <th>3</th>\n",
       "      <td>19.200000</td>\n",
       "      <td>Regular</td>\n",
       "      <td>0.000000</td>\n",
       "      <td>Fruits and Vegetables</td>\n",
       "      <td>182.0950</td>\n",
       "      <td>1998</td>\n",
       "      <td>Medium</td>\n",
       "      <td>Tier 3</td>\n",
       "      <td>Grocery Store</td>\n",
       "      <td>732.3800</td>\n",
       "    </tr>\n",
       "    <tr>\n",
       "      <th>4</th>\n",
       "      <td>8.930000</td>\n",
       "      <td>Low Fat</td>\n",
       "      <td>0.000000</td>\n",
       "      <td>Household</td>\n",
       "      <td>53.8614</td>\n",
       "      <td>1987</td>\n",
       "      <td>High</td>\n",
       "      <td>Tier 3</td>\n",
       "      <td>Supermarket Type1</td>\n",
       "      <td>994.7052</td>\n",
       "    </tr>\n",
       "    <tr>\n",
       "      <th>...</th>\n",
       "      <td>...</td>\n",
       "      <td>...</td>\n",
       "      <td>...</td>\n",
       "      <td>...</td>\n",
       "      <td>...</td>\n",
       "      <td>...</td>\n",
       "      <td>...</td>\n",
       "      <td>...</td>\n",
       "      <td>...</td>\n",
       "      <td>...</td>\n",
       "    </tr>\n",
       "    <tr>\n",
       "      <th>195</th>\n",
       "      <td>10.500000</td>\n",
       "      <td>Low Fat</td>\n",
       "      <td>0.041395</td>\n",
       "      <td>Fruits and Vegetables</td>\n",
       "      <td>37.6164</td>\n",
       "      <td>1997</td>\n",
       "      <td>Small</td>\n",
       "      <td>Tier 1</td>\n",
       "      <td>Supermarket Type1</td>\n",
       "      <td>540.6296</td>\n",
       "    </tr>\n",
       "    <tr>\n",
       "      <th>196</th>\n",
       "      <td>19.000000</td>\n",
       "      <td>Regular</td>\n",
       "      <td>0.097313</td>\n",
       "      <td>Frozen Foods</td>\n",
       "      <td>48.0718</td>\n",
       "      <td>1997</td>\n",
       "      <td>Small</td>\n",
       "      <td>Tier 1</td>\n",
       "      <td>Supermarket Type1</td>\n",
       "      <td>992.7078</td>\n",
       "    </tr>\n",
       "    <tr>\n",
       "      <th>197</th>\n",
       "      <td>14.600000</td>\n",
       "      <td>Low Fat</td>\n",
       "      <td>0.059583</td>\n",
       "      <td>Others</td>\n",
       "      <td>238.8538</td>\n",
       "      <td>1999</td>\n",
       "      <td>Medium</td>\n",
       "      <td>Tier 1</td>\n",
       "      <td>Supermarket Type1</td>\n",
       "      <td>6008.8450</td>\n",
       "    </tr>\n",
       "    <tr>\n",
       "      <th>198</th>\n",
       "      <td>12.857645</td>\n",
       "      <td>Regular</td>\n",
       "      <td>0.098664</td>\n",
       "      <td>Dairy</td>\n",
       "      <td>62.9194</td>\n",
       "      <td>1985</td>\n",
       "      <td>Medium</td>\n",
       "      <td>Tier 3</td>\n",
       "      <td>Supermarket Type3</td>\n",
       "      <td>2105.2596</td>\n",
       "    </tr>\n",
       "    <tr>\n",
       "      <th>199</th>\n",
       "      <td>12.857645</td>\n",
       "      <td>reg</td>\n",
       "      <td>0.101339</td>\n",
       "      <td>Canned</td>\n",
       "      <td>232.6300</td>\n",
       "      <td>1985</td>\n",
       "      <td>Medium</td>\n",
       "      <td>Tier 3</td>\n",
       "      <td>Supermarket Type3</td>\n",
       "      <td>5359.6900</td>\n",
       "    </tr>\n",
       "  </tbody>\n",
       "</table>\n",
       "<p>200 rows × 10 columns</p>\n",
       "</div>"
      ],
      "text/plain": [
       "     Item_Weight Item_Fat_Content  Item_Visibility              Item_Type  \\\n",
       "0       9.300000          Low Fat         0.016047                  Dairy   \n",
       "1       5.920000          Regular         0.019278            Soft Drinks   \n",
       "2      17.500000          Low Fat         0.016760                   Meat   \n",
       "3      19.200000          Regular         0.000000  Fruits and Vegetables   \n",
       "4       8.930000          Low Fat         0.000000              Household   \n",
       "..           ...              ...              ...                    ...   \n",
       "195    10.500000          Low Fat         0.041395  Fruits and Vegetables   \n",
       "196    19.000000          Regular         0.097313           Frozen Foods   \n",
       "197    14.600000          Low Fat         0.059583                 Others   \n",
       "198    12.857645          Regular         0.098664                  Dairy   \n",
       "199    12.857645              reg         0.101339                 Canned   \n",
       "\n",
       "     Item_MRP  Outlet_Establishment_Year Outlet_Size Outlet_Location_Type  \\\n",
       "0    249.8092                       1999      Medium               Tier 1   \n",
       "1     48.2692                       2009      Medium               Tier 3   \n",
       "2    141.6180                       1999      Medium               Tier 1   \n",
       "3    182.0950                       1998      Medium               Tier 3   \n",
       "4     53.8614                       1987        High               Tier 3   \n",
       "..        ...                        ...         ...                  ...   \n",
       "195   37.6164                       1997       Small               Tier 1   \n",
       "196   48.0718                       1997       Small               Tier 1   \n",
       "197  238.8538                       1999      Medium               Tier 1   \n",
       "198   62.9194                       1985      Medium               Tier 3   \n",
       "199  232.6300                       1985      Medium               Tier 3   \n",
       "\n",
       "           Outlet_Type  Item_Outlet_Sales  \n",
       "0    Supermarket Type1          3735.1380  \n",
       "1    Supermarket Type2           443.4228  \n",
       "2    Supermarket Type1          2097.2700  \n",
       "3        Grocery Store           732.3800  \n",
       "4    Supermarket Type1           994.7052  \n",
       "..                 ...                ...  \n",
       "195  Supermarket Type1           540.6296  \n",
       "196  Supermarket Type1           992.7078  \n",
       "197  Supermarket Type1          6008.8450  \n",
       "198  Supermarket Type3          2105.2596  \n",
       "199  Supermarket Type3          5359.6900  \n",
       "\n",
       "[200 rows x 10 columns]"
      ]
     },
     "execution_count": 210,
     "metadata": {},
     "output_type": "execute_result"
    }
   ],
   "source": [
    "sales_train.head(200)"
   ]
  },
  {
   "cell_type": "code",
   "execution_count": 211,
   "id": "eab6746a-daf2-4aa9-946e-1b8034db6a76",
   "metadata": {},
   "outputs": [
    {
     "data": {
      "text/plain": [
       "array(['Low Fat', 'Regular', 'low fat', 'LF', 'reg'], dtype=object)"
      ]
     },
     "execution_count": 211,
     "metadata": {},
     "output_type": "execute_result"
    }
   ],
   "source": [
    "sales_train['Item_Fat_Content'].unique()"
   ]
  },
  {
   "cell_type": "code",
   "execution_count": 212,
   "id": "dbd0769e-aa75-48a4-a56b-c5747d058d73",
   "metadata": {},
   "outputs": [
    {
     "data": {
      "text/plain": [
       "Low Fat    5089\n",
       "Regular    2889\n",
       "LF          316\n",
       "reg         117\n",
       "low fat     112\n",
       "Name: Item_Fat_Content, dtype: int64"
      ]
     },
     "execution_count": 212,
     "metadata": {},
     "output_type": "execute_result"
    }
   ],
   "source": [
    "sales_train['Item_Fat_Content'].value_counts()"
   ]
  },
  {
   "cell_type": "markdown",
   "id": "67a3ca23-bf85-4bc5-af0a-311394265389",
   "metadata": {},
   "source": [
    "EDA"
   ]
  },
  {
   "cell_type": "code",
   "execution_count": 213,
   "id": "b25b334e-9316-4430-b200-86799d8fa51e",
   "metadata": {},
   "outputs": [
    {
     "data": {
      "text/html": [
       "<div>\n",
       "<style scoped>\n",
       "    .dataframe tbody tr th:only-of-type {\n",
       "        vertical-align: middle;\n",
       "    }\n",
       "\n",
       "    .dataframe tbody tr th {\n",
       "        vertical-align: top;\n",
       "    }\n",
       "\n",
       "    .dataframe thead th {\n",
       "        text-align: right;\n",
       "    }\n",
       "</style>\n",
       "<table border=\"1\" class=\"dataframe\">\n",
       "  <thead>\n",
       "    <tr style=\"text-align: right;\">\n",
       "      <th></th>\n",
       "      <th>Item_Weight</th>\n",
       "      <th>Item_Visibility</th>\n",
       "      <th>Item_MRP</th>\n",
       "      <th>Outlet_Establishment_Year</th>\n",
       "      <th>Item_Outlet_Sales</th>\n",
       "    </tr>\n",
       "  </thead>\n",
       "  <tbody>\n",
       "    <tr>\n",
       "      <th>Item_Weight</th>\n",
       "      <td>1.000000</td>\n",
       "      <td>-0.012049</td>\n",
       "      <td>0.024756</td>\n",
       "      <td>-0.008301</td>\n",
       "      <td>0.011550</td>\n",
       "    </tr>\n",
       "    <tr>\n",
       "      <th>Item_Visibility</th>\n",
       "      <td>-0.012049</td>\n",
       "      <td>1.000000</td>\n",
       "      <td>-0.001315</td>\n",
       "      <td>-0.074834</td>\n",
       "      <td>-0.128625</td>\n",
       "    </tr>\n",
       "    <tr>\n",
       "      <th>Item_MRP</th>\n",
       "      <td>0.024756</td>\n",
       "      <td>-0.001315</td>\n",
       "      <td>1.000000</td>\n",
       "      <td>0.005020</td>\n",
       "      <td>0.567574</td>\n",
       "    </tr>\n",
       "    <tr>\n",
       "      <th>Outlet_Establishment_Year</th>\n",
       "      <td>-0.008301</td>\n",
       "      <td>-0.074834</td>\n",
       "      <td>0.005020</td>\n",
       "      <td>1.000000</td>\n",
       "      <td>-0.049135</td>\n",
       "    </tr>\n",
       "    <tr>\n",
       "      <th>Item_Outlet_Sales</th>\n",
       "      <td>0.011550</td>\n",
       "      <td>-0.128625</td>\n",
       "      <td>0.567574</td>\n",
       "      <td>-0.049135</td>\n",
       "      <td>1.000000</td>\n",
       "    </tr>\n",
       "  </tbody>\n",
       "</table>\n",
       "</div>"
      ],
      "text/plain": [
       "                           Item_Weight  Item_Visibility  Item_MRP  \\\n",
       "Item_Weight                   1.000000        -0.012049  0.024756   \n",
       "Item_Visibility              -0.012049         1.000000 -0.001315   \n",
       "Item_MRP                      0.024756        -0.001315  1.000000   \n",
       "Outlet_Establishment_Year    -0.008301        -0.074834  0.005020   \n",
       "Item_Outlet_Sales             0.011550        -0.128625  0.567574   \n",
       "\n",
       "                           Outlet_Establishment_Year  Item_Outlet_Sales  \n",
       "Item_Weight                                -0.008301           0.011550  \n",
       "Item_Visibility                            -0.074834          -0.128625  \n",
       "Item_MRP                                    0.005020           0.567574  \n",
       "Outlet_Establishment_Year                   1.000000          -0.049135  \n",
       "Item_Outlet_Sales                          -0.049135           1.000000  "
      ]
     },
     "execution_count": 213,
     "metadata": {},
     "output_type": "execute_result"
    }
   ],
   "source": [
    "sales_train.corr()"
   ]
  },
  {
   "cell_type": "code",
   "execution_count": 214,
   "id": "99b30f3b-2488-475e-8de3-af4a2ed71b45",
   "metadata": {},
   "outputs": [
    {
     "data": {
      "image/png": "[encoded data removed]",
      "text/plain": [
       "<Figure size 720x360 with 2 Axes>"
      ]
     },
     "metadata": {
      "needs_background": "light"
     },
     "output_type": "display_data"
    }
   ],
   "source": [
    "plt.figure(figsize=(10,5))\n",
    "sns.heatmap(sales_train.corr(),annot=True)\n",
    "plt.show()"
   ]
  },
  {
   "cell_type": "code",
   "execution_count": 215,
   "id": "767ea092-934e-4ca6-bc0e-86ba3c42f3ae",
   "metadata": {},
   "outputs": [
    {
     "data": {
      "text/plain": [
       "<matplotlib.axes._subplots.AxesSubplot at 0x28808464888>"
      ]
     },
     "execution_count": 215,
     "metadata": {},
     "output_type": "execute_result"
    },
    {
     "data": {
      "image/png": "[encoded data removed]",
      "text/plain": [
       "<Figure size 432x288 with 1 Axes>"
      ]
     },
     "metadata": {
      "needs_background": "light"
     },
     "output_type": "display_data"
    }
   ],
   "source": [
    "sns.countplot('Item_Fat_Content',data= sales_train)"
   ]
  },
  {
   "cell_type": "markdown",
   "id": "33036f32-df47-43b3-bf72-526c4ffab821",
   "metadata": {},
   "source": [
    "Data Preprocessing"
   ]
  },
  {
   "cell_type": "code",
   "execution_count": 265,
   "id": "67db3ca1-4219-470c-be9c-b74145e73787",
   "metadata": {},
   "outputs": [],
   "source": [
    "#converting categorical data into numerical data using label encoding\n",
    "from sklearn.preprocessing import LabelEncoder"
   ]
  },
  {
   "cell_type": "code",
   "execution_count": 266,
   "id": "13ea8523-2c46-4f59-b9f2-ecb06156aff2",
   "metadata": {},
   "outputs": [],
   "source": [
    "le = LabelEncoder()"
   ]
  },
  {
   "cell_type": "code",
   "execution_count": 267,
   "id": "57e16ee3-7464-47c9-a5c4-21d56e244e53",
   "metadata": {},
   "outputs": [],
   "source": [
    "sales_train['Item_Fat_Content_u'] = le.fit_transform(sales_train['Item_Fat_Content'])\n",
    "sales_train['Item_Type_u'] = le.fit_transform(sales_train['Item_Type'])\n",
    "sales_train['Outlet_Size_u'] = le.fit_transform(sales_train['Outlet_Size'])\n",
    "sales_train['Outlet_Location_Type_u'] = le.fit_transform(sales_train['Outlet_Location_Type'])\n",
    "sales_train['Outlet_Type_u'] = le.fit_transform(sales_train['Outlet_Type'])\n",
    "\n",
    "#or sales_train = sales_train.apply(le.fit_transform) if all features are categorical data"
   ]
  },
  {
   "cell_type": "code",
   "execution_count": 287,
   "id": "ede1b7a1-295e-4ef3-832c-1161ed7e108a",
   "metadata": {},
   "outputs": [
    {
     "data": {
      "text/html": [
       "<div>\n",
       "<style scoped>\n",
       "    .dataframe tbody tr th:only-of-type {\n",
       "        vertical-align: middle;\n",
       "    }\n",
       "\n",
       "    .dataframe tbody tr th {\n",
       "        vertical-align: top;\n",
       "    }\n",
       "\n",
       "    .dataframe thead th {\n",
       "        text-align: right;\n",
       "    }\n",
       "</style>\n",
       "<table border=\"1\" class=\"dataframe\">\n",
       "  <thead>\n",
       "    <tr style=\"text-align: right;\">\n",
       "      <th></th>\n",
       "      <th>Item_Weight</th>\n",
       "      <th>Item_Fat_Content</th>\n",
       "      <th>Item_Visibility</th>\n",
       "      <th>Item_Type</th>\n",
       "      <th>Item_MRP</th>\n",
       "      <th>Outlet_Establishment_Year</th>\n",
       "      <th>Outlet_Size</th>\n",
       "      <th>Outlet_Location_Type</th>\n",
       "      <th>Outlet_Type</th>\n",
       "      <th>Item_Outlet_Sales</th>\n",
       "      <th>Item_Fat_Content_u</th>\n",
       "      <th>Item_Type_u</th>\n",
       "      <th>Outlet_Size_u</th>\n",
       "      <th>Outlet_Location_Type_u</th>\n",
       "      <th>Outlet_Type_u</th>\n",
       "    </tr>\n",
       "  </thead>\n",
       "  <tbody>\n",
       "    <tr>\n",
       "      <th>0</th>\n",
       "      <td>9.300</td>\n",
       "      <td>Low Fat</td>\n",
       "      <td>0.016047</td>\n",
       "      <td>Dairy</td>\n",
       "      <td>249.8092</td>\n",
       "      <td>1999</td>\n",
       "      <td>Medium</td>\n",
       "      <td>Tier 1</td>\n",
       "      <td>Supermarket Type1</td>\n",
       "      <td>3735.1380</td>\n",
       "      <td>0</td>\n",
       "      <td>4</td>\n",
       "      <td>1</td>\n",
       "      <td>0</td>\n",
       "      <td>1</td>\n",
       "    </tr>\n",
       "    <tr>\n",
       "      <th>1</th>\n",
       "      <td>5.920</td>\n",
       "      <td>Regular</td>\n",
       "      <td>0.019278</td>\n",
       "      <td>Soft Drinks</td>\n",
       "      <td>48.2692</td>\n",
       "      <td>2009</td>\n",
       "      <td>Medium</td>\n",
       "      <td>Tier 3</td>\n",
       "      <td>Supermarket Type2</td>\n",
       "      <td>443.4228</td>\n",
       "      <td>1</td>\n",
       "      <td>14</td>\n",
       "      <td>1</td>\n",
       "      <td>2</td>\n",
       "      <td>2</td>\n",
       "    </tr>\n",
       "    <tr>\n",
       "      <th>2</th>\n",
       "      <td>17.500</td>\n",
       "      <td>Low Fat</td>\n",
       "      <td>0.016760</td>\n",
       "      <td>Meat</td>\n",
       "      <td>141.6180</td>\n",
       "      <td>1999</td>\n",
       "      <td>Medium</td>\n",
       "      <td>Tier 1</td>\n",
       "      <td>Supermarket Type1</td>\n",
       "      <td>2097.2700</td>\n",
       "      <td>0</td>\n",
       "      <td>10</td>\n",
       "      <td>1</td>\n",
       "      <td>0</td>\n",
       "      <td>1</td>\n",
       "    </tr>\n",
       "    <tr>\n",
       "      <th>3</th>\n",
       "      <td>19.200</td>\n",
       "      <td>Regular</td>\n",
       "      <td>0.000000</td>\n",
       "      <td>Fruits and Vegetables</td>\n",
       "      <td>182.0950</td>\n",
       "      <td>1998</td>\n",
       "      <td>Medium</td>\n",
       "      <td>Tier 3</td>\n",
       "      <td>Grocery Store</td>\n",
       "      <td>732.3800</td>\n",
       "      <td>1</td>\n",
       "      <td>6</td>\n",
       "      <td>1</td>\n",
       "      <td>2</td>\n",
       "      <td>0</td>\n",
       "    </tr>\n",
       "    <tr>\n",
       "      <th>4</th>\n",
       "      <td>8.930</td>\n",
       "      <td>Low Fat</td>\n",
       "      <td>0.000000</td>\n",
       "      <td>Household</td>\n",
       "      <td>53.8614</td>\n",
       "      <td>1987</td>\n",
       "      <td>High</td>\n",
       "      <td>Tier 3</td>\n",
       "      <td>Supermarket Type1</td>\n",
       "      <td>994.7052</td>\n",
       "      <td>0</td>\n",
       "      <td>9</td>\n",
       "      <td>0</td>\n",
       "      <td>2</td>\n",
       "      <td>1</td>\n",
       "    </tr>\n",
       "    <tr>\n",
       "      <th>...</th>\n",
       "      <td>...</td>\n",
       "      <td>...</td>\n",
       "      <td>...</td>\n",
       "      <td>...</td>\n",
       "      <td>...</td>\n",
       "      <td>...</td>\n",
       "      <td>...</td>\n",
       "      <td>...</td>\n",
       "      <td>...</td>\n",
       "      <td>...</td>\n",
       "      <td>...</td>\n",
       "      <td>...</td>\n",
       "      <td>...</td>\n",
       "      <td>...</td>\n",
       "      <td>...</td>\n",
       "    </tr>\n",
       "    <tr>\n",
       "      <th>8518</th>\n",
       "      <td>6.865</td>\n",
       "      <td>Low Fat</td>\n",
       "      <td>0.056783</td>\n",
       "      <td>Snack Foods</td>\n",
       "      <td>214.5218</td>\n",
       "      <td>1987</td>\n",
       "      <td>High</td>\n",
       "      <td>Tier 3</td>\n",
       "      <td>Supermarket Type1</td>\n",
       "      <td>2778.3834</td>\n",
       "      <td>0</td>\n",
       "      <td>13</td>\n",
       "      <td>0</td>\n",
       "      <td>2</td>\n",
       "      <td>1</td>\n",
       "    </tr>\n",
       "    <tr>\n",
       "      <th>8519</th>\n",
       "      <td>8.380</td>\n",
       "      <td>Regular</td>\n",
       "      <td>0.046982</td>\n",
       "      <td>Baking Goods</td>\n",
       "      <td>108.1570</td>\n",
       "      <td>2002</td>\n",
       "      <td>Medium</td>\n",
       "      <td>Tier 2</td>\n",
       "      <td>Supermarket Type1</td>\n",
       "      <td>549.2850</td>\n",
       "      <td>1</td>\n",
       "      <td>0</td>\n",
       "      <td>1</td>\n",
       "      <td>1</td>\n",
       "      <td>1</td>\n",
       "    </tr>\n",
       "    <tr>\n",
       "      <th>8520</th>\n",
       "      <td>10.600</td>\n",
       "      <td>Low Fat</td>\n",
       "      <td>0.035186</td>\n",
       "      <td>Health and Hygiene</td>\n",
       "      <td>85.1224</td>\n",
       "      <td>2004</td>\n",
       "      <td>Small</td>\n",
       "      <td>Tier 2</td>\n",
       "      <td>Supermarket Type1</td>\n",
       "      <td>1193.1136</td>\n",
       "      <td>0</td>\n",
       "      <td>8</td>\n",
       "      <td>2</td>\n",
       "      <td>1</td>\n",
       "      <td>1</td>\n",
       "    </tr>\n",
       "    <tr>\n",
       "      <th>8521</th>\n",
       "      <td>7.210</td>\n",
       "      <td>Regular</td>\n",
       "      <td>0.145221</td>\n",
       "      <td>Snack Foods</td>\n",
       "      <td>103.1332</td>\n",
       "      <td>2009</td>\n",
       "      <td>Medium</td>\n",
       "      <td>Tier 3</td>\n",
       "      <td>Supermarket Type2</td>\n",
       "      <td>1845.5976</td>\n",
       "      <td>1</td>\n",
       "      <td>13</td>\n",
       "      <td>1</td>\n",
       "      <td>2</td>\n",
       "      <td>2</td>\n",
       "    </tr>\n",
       "    <tr>\n",
       "      <th>8522</th>\n",
       "      <td>14.800</td>\n",
       "      <td>Low Fat</td>\n",
       "      <td>0.044878</td>\n",
       "      <td>Soft Drinks</td>\n",
       "      <td>75.4670</td>\n",
       "      <td>1997</td>\n",
       "      <td>Small</td>\n",
       "      <td>Tier 1</td>\n",
       "      <td>Supermarket Type1</td>\n",
       "      <td>765.6700</td>\n",
       "      <td>0</td>\n",
       "      <td>14</td>\n",
       "      <td>2</td>\n",
       "      <td>0</td>\n",
       "      <td>1</td>\n",
       "    </tr>\n",
       "  </tbody>\n",
       "</table>\n",
       "<p>8523 rows × 15 columns</p>\n",
       "</div>"
      ],
      "text/plain": [
       "      Item_Weight Item_Fat_Content  Item_Visibility              Item_Type  \\\n",
       "0           9.300          Low Fat         0.016047                  Dairy   \n",
       "1           5.920          Regular         0.019278            Soft Drinks   \n",
       "2          17.500          Low Fat         0.016760                   Meat   \n",
       "3          19.200          Regular         0.000000  Fruits and Vegetables   \n",
       "4           8.930          Low Fat         0.000000              Household   \n",
       "...           ...              ...              ...                    ...   \n",
       "8518        6.865          Low Fat         0.056783            Snack Foods   \n",
       "8519        8.380          Regular         0.046982           Baking Goods   \n",
       "8520       10.600          Low Fat         0.035186     Health and Hygiene   \n",
       "8521        7.210          Regular         0.145221            Snack Foods   \n",
       "8522       14.800          Low Fat         0.044878            Soft Drinks   \n",
       "\n",
       "      Item_MRP  Outlet_Establishment_Year Outlet_Size Outlet_Location_Type  \\\n",
       "0     249.8092                       1999      Medium               Tier 1   \n",
       "1      48.2692                       2009      Medium               Tier 3   \n",
       "2     141.6180                       1999      Medium               Tier 1   \n",
       "3     182.0950                       1998      Medium               Tier 3   \n",
       "4      53.8614                       1987        High               Tier 3   \n",
       "...        ...                        ...         ...                  ...   \n",
       "8518  214.5218                       1987        High               Tier 3   \n",
       "8519  108.1570                       2002      Medium               Tier 2   \n",
       "8520   85.1224                       2004       Small               Tier 2   \n",
       "8521  103.1332                       2009      Medium               Tier 3   \n",
       "8522   75.4670                       1997       Small               Tier 1   \n",
       "\n",
       "            Outlet_Type  Item_Outlet_Sales  Item_Fat_Content_u  Item_Type_u  \\\n",
       "0     Supermarket Type1          3735.1380                   0            4   \n",
       "1     Supermarket Type2           443.4228                   1           14   \n",
       "2     Supermarket Type1          2097.2700                   0           10   \n",
       "3         Grocery Store           732.3800                   1            6   \n",
       "4     Supermarket Type1           994.7052                   0            9   \n",
       "...                 ...                ...                 ...          ...   \n",
       "8518  Supermarket Type1          2778.3834                   0           13   \n",
       "8519  Supermarket Type1           549.2850                   1            0   \n",
       "8520  Supermarket Type1          1193.1136                   0            8   \n",
       "8521  Supermarket Type2          1845.5976                   1           13   \n",
       "8522  Supermarket Type1           765.6700                   0           14   \n",
       "\n",
       "      Outlet_Size_u  Outlet_Location_Type_u  Outlet_Type_u  \n",
       "0                 1                       0              1  \n",
       "1                 1                       2              2  \n",
       "2                 1                       0              1  \n",
       "3                 1                       2              0  \n",
       "4                 0                       2              1  \n",
       "...             ...                     ...            ...  \n",
       "8518              0                       2              1  \n",
       "8519              1                       1              1  \n",
       "8520              2                       1              1  \n",
       "8521              1                       2              2  \n",
       "8522              2                       0              1  \n",
       "\n",
       "[8523 rows x 15 columns]"
      ]
     },
     "execution_count": 287,
     "metadata": {},
     "output_type": "execute_result"
    }
   ],
   "source": [
    "sales_train"
   ]
  },
  {
   "cell_type": "code",
   "execution_count": 270,
   "id": "2a5b2747-03a0-4a17-8c93-3b405771600d",
   "metadata": {},
   "outputs": [],
   "source": [
    "sales_train['Item_Fat_Content'] = sales_train['Item_Fat_Content'].replace(['LF','low fat'],'Low Fat')"
   ]
  },
  {
   "cell_type": "code",
   "execution_count": 271,
   "id": "679104f4-e756-42f0-afca-46b7f6b98e79",
   "metadata": {},
   "outputs": [
    {
     "data": {
      "text/plain": [
       "Low Fat    5517\n",
       "Regular    3006\n",
       "Name: Item_Fat_Content, dtype: int64"
      ]
     },
     "execution_count": 271,
     "metadata": {},
     "output_type": "execute_result"
    }
   ],
   "source": [
    "sales_train['Item_Fat_Content'].value_counts()"
   ]
  },
  {
   "cell_type": "code",
   "execution_count": 272,
   "id": "cf827a37-2338-4875-84f3-b6e774ab3dd5",
   "metadata": {},
   "outputs": [],
   "source": [
    "sales_train['Item_Fat_Content'] = sales_train['Item_Fat_Content'].replace('reg','Regular')"
   ]
  },
  {
   "cell_type": "code",
   "execution_count": 273,
   "id": "153199b2-04a2-4f67-93d8-f64ccee4dfc4",
   "metadata": {
    "jupyter": {
     "source_hidden": true
    },
    "tags": []
   },
   "outputs": [
    {
     "data": {
      "text/plain": [
       "Low Fat    5517\n",
       "Regular    3006\n",
       "Name: Item_Fat_Content, dtype: int64"
      ]
     },
     "execution_count": 273,
     "metadata": {},
     "output_type": "execute_result"
    }
   ],
   "source": [
    "sales_train['Item_Fat_Content'].value_counts()"
   ]
  },
  {
   "cell_type": "code",
   "execution_count": 274,
   "id": "09886e8b-0474-4e30-b18a-c4ce3918566a",
   "metadata": {},
   "outputs": [
    {
     "data": {
      "text/plain": [
       "array(['Low Fat', 'Regular'], dtype=object)"
      ]
     },
     "execution_count": 274,
     "metadata": {},
     "output_type": "execute_result"
    }
   ],
   "source": [
    "sales_train['Item_Fat_Content'].unique()"
   ]
  },
  {
   "cell_type": "code",
   "execution_count": 275,
   "id": "2bdf807b-a0ae-4456-a63d-3f93b408faf0",
   "metadata": {},
   "outputs": [
    {
     "data": {
      "text/plain": [
       "array([0, 1], dtype=int64)"
      ]
     },
     "execution_count": 275,
     "metadata": {},
     "output_type": "execute_result"
    }
   ],
   "source": [
    "sales_train['Item_Fat_Content_u'].unique()"
   ]
  },
  {
   "cell_type": "code",
   "execution_count": 276,
   "id": "7b831bbe-e706-43e1-9d4e-a802dfc0c07c",
   "metadata": {},
   "outputs": [
    {
     "data": {
      "text/plain": [
       "array(['Dairy', 'Soft Drinks', 'Meat', 'Fruits and Vegetables',\n",
       "       'Household', 'Baking Goods', 'Snack Foods', 'Frozen Foods',\n",
       "       'Breakfast', 'Health and Hygiene', 'Hard Drinks', 'Canned',\n",
       "       'Breads', 'Starchy Foods', 'Others', 'Seafood'], dtype=object)"
      ]
     },
     "execution_count": 276,
     "metadata": {},
     "output_type": "execute_result"
    }
   ],
   "source": [
    "sales_train['Item_Type'].unique()"
   ]
  },
  {
   "cell_type": "code",
   "execution_count": 277,
   "id": "070f7f77-ac61-4f5e-9234-692899bdf153",
   "metadata": {},
   "outputs": [
    {
     "data": {
      "text/plain": [
       "array([ 4, 14, 10,  6,  9,  0, 13,  5,  2,  8,  7,  3,  1, 15, 11, 12],\n",
       "      dtype=int64)"
      ]
     },
     "execution_count": 277,
     "metadata": {},
     "output_type": "execute_result"
    }
   ],
   "source": [
    "sales_train['Item_Type_u'].unique()"
   ]
  },
  {
   "cell_type": "code",
   "execution_count": 288,
   "id": "a64734cc-df0d-431c-bf1e-14894e45aad4",
   "metadata": {},
   "outputs": [
    {
     "data": {
      "text/plain": [
       "array(['Medium', 'High', 'Small'], dtype=object)"
      ]
     },
     "execution_count": 288,
     "metadata": {},
     "output_type": "execute_result"
    }
   ],
   "source": [
    "sales_train['Outlet_Size'].unique()\n",
    "#to known the label encoded value for outlet_size, we need to sort its unique values\n",
    "#and encoded value starts from 0."
   ]
  },
  {
   "cell_type": "code",
   "execution_count": 292,
   "id": "63d9157c-7763-4d80-9fe5-07bfcbf93786",
   "metadata": {},
   "outputs": [
    {
     "data": {
      "text/plain": [
       "['High', 'Medium', 'Small']"
      ]
     },
     "execution_count": 292,
     "metadata": {},
     "output_type": "execute_result"
    }
   ],
   "source": [
    "sorted(sales_train['Outlet_Size'].unique())"
   ]
  },
  {
   "cell_type": "code",
   "execution_count": 289,
   "id": "13800672-7e3f-46fd-a948-f78cbebafc23",
   "metadata": {},
   "outputs": [
    {
     "data": {
      "text/plain": [
       "array([1, 0, 2], dtype=int64)"
      ]
     },
     "execution_count": 289,
     "metadata": {},
     "output_type": "execute_result"
    }
   ],
   "source": [
    "sales_train['Outlet_Size_u'].unique()"
   ]
  },
  {
   "cell_type": "code",
   "execution_count": 293,
   "id": "fb2d4561-d6f9-4ec6-9d91-35140423637a",
   "metadata": {},
   "outputs": [
    {
     "data": {
      "text/plain": [
       "array(['Tier 1', 'Tier 3', 'Tier 2'], dtype=object)"
      ]
     },
     "execution_count": 293,
     "metadata": {},
     "output_type": "execute_result"
    }
   ],
   "source": [
    "sales_train['Outlet_Location_Type'].unique()"
   ]
  },
  {
   "cell_type": "code",
   "execution_count": 294,
   "id": "7a756892-38d6-483d-be45-9606ddd595af",
   "metadata": {},
   "outputs": [
    {
     "data": {
      "text/plain": [
       "['Tier 1', 'Tier 2', 'Tier 3']"
      ]
     },
     "execution_count": 294,
     "metadata": {},
     "output_type": "execute_result"
    }
   ],
   "source": [
    "sorted(sales_train['Outlet_Location_Type'].unique())"
   ]
  },
  {
   "cell_type": "code",
   "execution_count": 295,
   "id": "c2896023-caeb-4be6-ab49-785f718e3f1b",
   "metadata": {},
   "outputs": [
    {
     "data": {
      "text/plain": [
       "array([0, 2, 1], dtype=int64)"
      ]
     },
     "execution_count": 295,
     "metadata": {},
     "output_type": "execute_result"
    }
   ],
   "source": [
    "sales_train['Outlet_Location_Type_u'].unique()"
   ]
  },
  {
   "cell_type": "code",
   "execution_count": 296,
   "id": "6fc15e67-03b2-445b-89a7-b88447ffc845",
   "metadata": {},
   "outputs": [
    {
     "data": {
      "text/plain": [
       "['Grocery Store',\n",
       " 'Supermarket Type1',\n",
       " 'Supermarket Type2',\n",
       " 'Supermarket Type3']"
      ]
     },
     "execution_count": 296,
     "metadata": {},
     "output_type": "execute_result"
    }
   ],
   "source": [
    "sorted(sales_train['Outlet_Type'].unique())"
   ]
  },
  {
   "cell_type": "code",
   "execution_count": 297,
   "id": "3eeec681-f390-4248-9749-b6d4433aa383",
   "metadata": {},
   "outputs": [],
   "source": [
    "sales_train.drop(['Item_Fat_Content','Item_Type','Outlet_Size','Outlet_Location_Type','Outlet_Type'],axis=1,inplace=True)"
   ]
  },
  {
   "cell_type": "code",
   "execution_count": 298,
   "id": "e7138f2c-73b4-49fb-940e-f16c23eef21f",
   "metadata": {},
   "outputs": [],
   "source": [
    "from sklearn.model_selection import train_test_split\n"
   ]
  },
  {
   "cell_type": "code",
   "execution_count": 299,
   "id": "e282ad3d-f97e-4fbb-8629-730556e9b007",
   "metadata": {},
   "outputs": [],
   "source": [
    "X = sales_train.drop('Item_Outlet_Sales',axis=1)\n",
    "y = sales_train['Item_Outlet_Sales']"
   ]
  },
  {
   "cell_type": "code",
   "execution_count": 300,
   "id": "62ab3af3-0430-4568-bc35-e30820b586da",
   "metadata": {},
   "outputs": [],
   "source": [
    "X_train, X_test, y_train, y_test = train_test_split(X,y,test_size=0.2)"
   ]
  },
  {
   "cell_type": "code",
   "execution_count": 301,
   "id": "8d87ce39-51c9-494c-bcf5-b6d9fda8fc28",
   "metadata": {},
   "outputs": [
    {
     "data": {
      "text/html": [
       "<div>\n",
       "<style scoped>\n",
       "    .dataframe tbody tr th:only-of-type {\n",
       "        vertical-align: middle;\n",
       "    }\n",
       "\n",
       "    .dataframe tbody tr th {\n",
       "        vertical-align: top;\n",
       "    }\n",
       "\n",
       "    .dataframe thead th {\n",
       "        text-align: right;\n",
       "    }\n",
       "</style>\n",
       "<table border=\"1\" class=\"dataframe\">\n",
       "  <thead>\n",
       "    <tr style=\"text-align: right;\">\n",
       "      <th></th>\n",
       "      <th>Item_Weight</th>\n",
       "      <th>Item_Visibility</th>\n",
       "      <th>Item_MRP</th>\n",
       "      <th>Outlet_Establishment_Year</th>\n",
       "      <th>Item_Fat_Content_u</th>\n",
       "      <th>Item_Type_u</th>\n",
       "      <th>Outlet_Size_u</th>\n",
       "      <th>Outlet_Location_Type_u</th>\n",
       "      <th>Outlet_Type_u</th>\n",
       "    </tr>\n",
       "  </thead>\n",
       "  <tbody>\n",
       "    <tr>\n",
       "      <th>2743</th>\n",
       "      <td>4.785000</td>\n",
       "      <td>0.092576</td>\n",
       "      <td>121.0098</td>\n",
       "      <td>2004</td>\n",
       "      <td>0</td>\n",
       "      <td>1</td>\n",
       "      <td>2</td>\n",
       "      <td>1</td>\n",
       "      <td>1</td>\n",
       "    </tr>\n",
       "    <tr>\n",
       "      <th>2095</th>\n",
       "      <td>10.895000</td>\n",
       "      <td>0.009614</td>\n",
       "      <td>122.9730</td>\n",
       "      <td>1987</td>\n",
       "      <td>1</td>\n",
       "      <td>4</td>\n",
       "      <td>0</td>\n",
       "      <td>2</td>\n",
       "      <td>1</td>\n",
       "    </tr>\n",
       "    <tr>\n",
       "      <th>777</th>\n",
       "      <td>5.460000</td>\n",
       "      <td>0.032171</td>\n",
       "      <td>184.8240</td>\n",
       "      <td>2004</td>\n",
       "      <td>1</td>\n",
       "      <td>3</td>\n",
       "      <td>2</td>\n",
       "      <td>1</td>\n",
       "      <td>1</td>\n",
       "    </tr>\n",
       "    <tr>\n",
       "      <th>8435</th>\n",
       "      <td>12.857645</td>\n",
       "      <td>0.000000</td>\n",
       "      <td>196.5084</td>\n",
       "      <td>1985</td>\n",
       "      <td>0</td>\n",
       "      <td>0</td>\n",
       "      <td>1</td>\n",
       "      <td>2</td>\n",
       "      <td>3</td>\n",
       "    </tr>\n",
       "    <tr>\n",
       "      <th>7193</th>\n",
       "      <td>10.000000</td>\n",
       "      <td>0.073679</td>\n",
       "      <td>120.9440</td>\n",
       "      <td>2009</td>\n",
       "      <td>0</td>\n",
       "      <td>8</td>\n",
       "      <td>1</td>\n",
       "      <td>2</td>\n",
       "      <td>2</td>\n",
       "    </tr>\n",
       "    <tr>\n",
       "      <th>...</th>\n",
       "      <td>...</td>\n",
       "      <td>...</td>\n",
       "      <td>...</td>\n",
       "      <td>...</td>\n",
       "      <td>...</td>\n",
       "      <td>...</td>\n",
       "      <td>...</td>\n",
       "      <td>...</td>\n",
       "      <td>...</td>\n",
       "    </tr>\n",
       "    <tr>\n",
       "      <th>3536</th>\n",
       "      <td>8.880000</td>\n",
       "      <td>0.098622</td>\n",
       "      <td>208.4270</td>\n",
       "      <td>1997</td>\n",
       "      <td>0</td>\n",
       "      <td>9</td>\n",
       "      <td>2</td>\n",
       "      <td>0</td>\n",
       "      <td>1</td>\n",
       "    </tr>\n",
       "    <tr>\n",
       "      <th>4990</th>\n",
       "      <td>18.600000</td>\n",
       "      <td>0.015859</td>\n",
       "      <td>152.9366</td>\n",
       "      <td>2007</td>\n",
       "      <td>0</td>\n",
       "      <td>13</td>\n",
       "      <td>1</td>\n",
       "      <td>1</td>\n",
       "      <td>1</td>\n",
       "    </tr>\n",
       "    <tr>\n",
       "      <th>2463</th>\n",
       "      <td>18.750000</td>\n",
       "      <td>0.034361</td>\n",
       "      <td>215.7218</td>\n",
       "      <td>1999</td>\n",
       "      <td>0</td>\n",
       "      <td>9</td>\n",
       "      <td>1</td>\n",
       "      <td>0</td>\n",
       "      <td>1</td>\n",
       "    </tr>\n",
       "    <tr>\n",
       "      <th>6938</th>\n",
       "      <td>14.500000</td>\n",
       "      <td>0.000000</td>\n",
       "      <td>159.3262</td>\n",
       "      <td>2004</td>\n",
       "      <td>1</td>\n",
       "      <td>13</td>\n",
       "      <td>2</td>\n",
       "      <td>1</td>\n",
       "      <td>1</td>\n",
       "    </tr>\n",
       "    <tr>\n",
       "      <th>7056</th>\n",
       "      <td>20.500000</td>\n",
       "      <td>0.112638</td>\n",
       "      <td>195.5478</td>\n",
       "      <td>2002</td>\n",
       "      <td>1</td>\n",
       "      <td>6</td>\n",
       "      <td>1</td>\n",
       "      <td>1</td>\n",
       "      <td>1</td>\n",
       "    </tr>\n",
       "  </tbody>\n",
       "</table>\n",
       "<p>6818 rows × 9 columns</p>\n",
       "</div>"
      ],
      "text/plain": [
       "      Item_Weight  Item_Visibility  Item_MRP  Outlet_Establishment_Year  \\\n",
       "2743     4.785000         0.092576  121.0098                       2004   \n",
       "2095    10.895000         0.009614  122.9730                       1987   \n",
       "777      5.460000         0.032171  184.8240                       2004   \n",
       "8435    12.857645         0.000000  196.5084                       1985   \n",
       "7193    10.000000         0.073679  120.9440                       2009   \n",
       "...           ...              ...       ...                        ...   \n",
       "3536     8.880000         0.098622  208.4270                       1997   \n",
       "4990    18.600000         0.015859  152.9366                       2007   \n",
       "2463    18.750000         0.034361  215.7218                       1999   \n",
       "6938    14.500000         0.000000  159.3262                       2004   \n",
       "7056    20.500000         0.112638  195.5478                       2002   \n",
       "\n",
       "      Item_Fat_Content_u  Item_Type_u  Outlet_Size_u  Outlet_Location_Type_u  \\\n",
       "2743                   0            1              2                       1   \n",
       "2095                   1            4              0                       2   \n",
       "777                    1            3              2                       1   \n",
       "8435                   0            0              1                       2   \n",
       "7193                   0            8              1                       2   \n",
       "...                  ...          ...            ...                     ...   \n",
       "3536                   0            9              2                       0   \n",
       "4990                   0           13              1                       1   \n",
       "2463                   0            9              1                       0   \n",
       "6938                   1           13              2                       1   \n",
       "7056                   1            6              1                       1   \n",
       "\n",
       "      Outlet_Type_u  \n",
       "2743              1  \n",
       "2095              1  \n",
       "777               1  \n",
       "8435              3  \n",
       "7193              2  \n",
       "...             ...  \n",
       "3536              1  \n",
       "4990              1  \n",
       "2463              1  \n",
       "6938              1  \n",
       "7056              1  \n",
       "\n",
       "[6818 rows x 9 columns]"
      ]
     },
     "execution_count": 301,
     "metadata": {},
     "output_type": "execute_result"
    }
   ],
   "source": [
    "X_train"
   ]
  },
  {
   "cell_type": "code",
   "execution_count": 302,
   "id": "8a50f770-0cbd-4047-b300-d4d28ca7865f",
   "metadata": {},
   "outputs": [
    {
     "name": "stdout",
     "output_type": "stream",
     "text": [
      "<class 'pandas.core.frame.DataFrame'>\n",
      "Int64Index: 6818 entries, 2743 to 7056\n",
      "Data columns (total 9 columns):\n",
      "Item_Weight                  6818 non-null float64\n",
      "Item_Visibility              6818 non-null float64\n",
      "Item_MRP                     6818 non-null float64\n",
      "Outlet_Establishment_Year    6818 non-null int64\n",
      "Item_Fat_Content_u           6818 non-null int32\n",
      "Item_Type_u                  6818 non-null int32\n",
      "Outlet_Size_u                6818 non-null int32\n",
      "Outlet_Location_Type_u       6818 non-null int32\n",
      "Outlet_Type_u                6818 non-null int32\n",
      "dtypes: float64(3), int32(5), int64(1)\n",
      "memory usage: 399.5 KB\n"
     ]
    }
   ],
   "source": [
    "X_train.info()"
   ]
  },
  {
   "cell_type": "code",
   "execution_count": 303,
   "id": "1bf883c4-069e-4e0e-b13b-178819bb426f",
   "metadata": {},
   "outputs": [],
   "source": [
    "from sklearn.preprocessing import StandardScaler"
   ]
  },
  {
   "cell_type": "code",
   "execution_count": 304,
   "id": "82e6ac21-d0ee-46fb-b070-49e7b52d93bb",
   "metadata": {},
   "outputs": [],
   "source": [
    "ss = StandardScaler()"
   ]
  },
  {
   "cell_type": "code",
   "execution_count": 305,
   "id": "4b53bc0e-846f-4f39-9110-9c4696e1bec3",
   "metadata": {},
   "outputs": [],
   "source": [
    "X_train_ss = ss.fit_transform(X_train)\n",
    "X_test_ss = ss.transform(X_test)"
   ]
  },
  {
   "cell_type": "code",
   "execution_count": 306,
   "id": "57d2bac6-0030-4cf4-81d8-7d14bf9fa2bb",
   "metadata": {},
   "outputs": [
    {
     "data": {
      "text/plain": [
       "array([[-1.91193362,  0.52319991, -0.33136059, ...,  1.38325597,\n",
       "        -0.14219562, -0.25703116],\n",
       "       [-0.47262412, -1.08870296, -0.29981689, ..., -1.9463254 ,\n",
       "         1.08656199, -0.25703116],\n",
       "       [-1.75292643, -0.6504262 ,  0.6939736 , ...,  1.38325597,\n",
       "        -0.14219562, -0.25703116],\n",
       "       ...,\n",
       "       [ 1.37774841, -0.60788823,  1.19042378, ..., -0.28153471,\n",
       "        -1.37095324, -0.25703116],\n",
       "       [ 0.37659205, -1.27549384,  0.28428789, ...,  1.38325597,\n",
       "        -0.14219562, -0.25703116],\n",
       "       [ 1.78998927,  0.91298892,  0.86627818, ..., -0.28153471,\n",
       "        -0.14219562, -0.25703116]])"
      ]
     },
     "execution_count": 306,
     "metadata": {},
     "output_type": "execute_result"
    }
   ],
   "source": [
    "X_train_ss"
   ]
  },
  {
   "cell_type": "code",
   "execution_count": 307,
   "id": "6c36ea74-38e0-478b-969b-41bf4107f49a",
   "metadata": {},
   "outputs": [
    {
     "data": {
      "text/plain": [
       "(1705, 9)"
      ]
     },
     "execution_count": 307,
     "metadata": {},
     "output_type": "execute_result"
    }
   ],
   "source": [
    "X_test_ss.shape"
   ]
  },
  {
   "cell_type": "code",
   "execution_count": 308,
   "id": "b7c1be56-eed4-4ccf-845f-bda0ae4df52a",
   "metadata": {},
   "outputs": [
    {
     "data": {
      "text/plain": [
       "(1705,)"
      ]
     },
     "execution_count": 308,
     "metadata": {},
     "output_type": "execute_result"
    }
   ],
   "source": [
    "y_test.shape"
   ]
  },
  {
   "cell_type": "code",
   "execution_count": 309,
   "id": "47d56adc-9292-44f6-9ca4-d9584dce208d",
   "metadata": {},
   "outputs": [
    {
     "data": {
      "text/plain": [
       "['models/scaler.sav']"
      ]
     },
     "execution_count": 309,
     "metadata": {},
     "output_type": "execute_result"
    }
   ],
   "source": [
    "joblib.dump(ss,'models/scaler.sav')"
   ]
  },
  {
   "cell_type": "markdown",
   "id": "42c42277-7fe0-4ddb-a909-19ce9aa495c4",
   "metadata": {},
   "source": [
    "Model Building"
   ]
  },
  {
   "cell_type": "code",
   "execution_count": 83,
   "id": "a9357ab6-5e0b-4bfc-bd29-6449af2c0f55",
   "metadata": {},
   "outputs": [],
   "source": [
    "from sklearn.linear_model import LinearRegression"
   ]
  },
  {
   "cell_type": "code",
   "execution_count": 84,
   "id": "0d3c4f07-ae23-4172-93e5-f598c22f07ea",
   "metadata": {},
   "outputs": [],
   "source": [
    "le = LinearRegression()"
   ]
  },
  {
   "cell_type": "code",
   "execution_count": 85,
   "id": "985e385c-d146-4768-9ee8-66222c297cb2",
   "metadata": {},
   "outputs": [
    {
     "data": {
      "text/plain": [
       "LinearRegression(copy_X=True, fit_intercept=True, n_jobs=None, normalize=False)"
      ]
     },
     "execution_count": 85,
     "metadata": {},
     "output_type": "execute_result"
    }
   ],
   "source": [
    "le.fit(X_train_ss,y_train)"
   ]
  },
  {
   "cell_type": "code",
   "execution_count": 86,
   "id": "e2b00184-f863-46a8-96c2-5456c58db76e",
   "metadata": {},
   "outputs": [],
   "source": [
    "prediction_le = le.predict(X_test_ss)"
   ]
  },
  {
   "cell_type": "code",
   "execution_count": 87,
   "id": "b4d0b381-a849-453e-85e2-7a7b107b6562",
   "metadata": {},
   "outputs": [
    {
     "data": {
      "text/plain": [
       "array([2000.62773592, 3419.10902266, 1852.66045724, ...,  469.51297224,\n",
       "       3105.39625955, 1261.66450652])"
      ]
     },
     "execution_count": 87,
     "metadata": {},
     "output_type": "execute_result"
    }
   ],
   "source": [
    "prediction_le"
   ]
  },
  {
   "cell_type": "code",
   "execution_count": 88,
   "id": "d42cb753-85ac-4bfd-8cc1-a8504ec9d4bf",
   "metadata": {},
   "outputs": [
    {
     "data": {
      "text/plain": [
       "6104    1510.0344\n",
       "656      938.7780\n",
       "2410    1486.0656\n",
       "2301    1864.2400\n",
       "2051    4364.9848\n",
       "          ...    \n",
       "4995    4870.3270\n",
       "3746    1569.9564\n",
       "5522     703.0848\n",
       "1041    3542.0560\n",
       "117     2542.0244\n",
       "Name: Item_Outlet_Sales, Length: 1705, dtype: float64"
      ]
     },
     "execution_count": 88,
     "metadata": {},
     "output_type": "execute_result"
    }
   ],
   "source": [
    "y_test"
   ]
  },
  {
   "cell_type": "code",
   "execution_count": 89,
   "id": "9de0d5ad-b1fe-4b42-a4fa-be44526ee494",
   "metadata": {},
   "outputs": [],
   "source": [
    "from sklearn.metrics import mean_absolute_error,mean_squared_error,r2_score"
   ]
  },
  {
   "cell_type": "code",
   "execution_count": 93,
   "id": "6a6f28a0-5052-45bd-86e6-67ea68be044c",
   "metadata": {},
   "outputs": [
    {
     "name": "stdout",
     "output_type": "stream",
     "text": [
      "0.5126541178459847\n",
      "905.3361780310169\n",
      "1207.4379156860946\n"
     ]
    }
   ],
   "source": [
    "print(r2_score(y_test,prediction_le))\n",
    "print(mean_absolute_error(y_test,prediction_le))\n",
    "print(mean_squared_error(y_test,prediction_le)**0.5)"
   ]
  },
  {
   "cell_type": "code",
   "execution_count": 101,
   "id": "e4e02d9a-d0d3-4b99-97f4-59f17e8f0a20",
   "metadata": {},
   "outputs": [],
   "source": [
    "#Random forest classifier\n",
    "from sklearn.ensemble import RandomForestRegressor\n",
    "\n",
    "rf = RandomForestRegressor()"
   ]
  },
  {
   "cell_type": "code",
   "execution_count": 95,
   "id": "aeb4775d-0d85-4334-bb79-b4899e5a303a",
   "metadata": {},
   "outputs": [
    {
     "name": "stderr",
     "output_type": "stream",
     "text": [
      "c:\\users\\gaurav\\anaconda3\\envs\\deeplnenv\\lib\\site-packages\\sklearn\\ensemble\\forest.py:245: FutureWarning: The default value of n_estimators will change from 10 in version 0.20 to 100 in 0.22.\n",
      "  \"10 in version 0.20 to 100 in 0.22.\", FutureWarning)\n"
     ]
    },
    {
     "data": {
      "text/plain": [
       "RandomForestRegressor(bootstrap=True, criterion='mse', max_depth=None,\n",
       "                      max_features='auto', max_leaf_nodes=None,\n",
       "                      min_impurity_decrease=0.0, min_impurity_split=None,\n",
       "                      min_samples_leaf=1, min_samples_split=2,\n",
       "                      min_weight_fraction_leaf=0.0, n_estimators=10,\n",
       "                      n_jobs=None, oob_score=False, random_state=None,\n",
       "                      verbose=0, warm_start=False)"
      ]
     },
     "execution_count": 95,
     "metadata": {},
     "output_type": "execute_result"
    }
   ],
   "source": [
    "rf.fit(X_train,y_train)"
   ]
  },
  {
   "cell_type": "code",
   "execution_count": 97,
   "id": "e7d8b110-8a09-451b-84ac-0994437e94fd",
   "metadata": {},
   "outputs": [],
   "source": [
    "prediction_rf = rf.predict(X_test)"
   ]
  },
  {
   "cell_type": "code",
   "execution_count": 98,
   "id": "cf57f3ec-a3e2-43ee-ae07-c10741bea432",
   "metadata": {},
   "outputs": [
    {
     "name": "stdout",
     "output_type": "stream",
     "text": [
      "0.5134829324419138\n",
      "842.1506217243402\n",
      "1206.4107519712336\n"
     ]
    }
   ],
   "source": [
    "print(r2_score(y_test,prediction_rf))\n",
    "print(mean_absolute_error(y_test,prediction_rf))\n",
    "print(mean_squared_error(y_test,prediction_rf)**0.5)"
   ]
  },
  {
   "cell_type": "markdown",
   "id": "146d64d2-5d00-4ada-8835-5f9f516ca12d",
   "metadata": {},
   "source": [
    "Hyper Parameter Tuning"
   ]
  },
  {
   "cell_type": "code",
   "execution_count": 99,
   "id": "6d7e9f81-6618-4e3b-9e8b-b332f04755a4",
   "metadata": {},
   "outputs": [],
   "source": [
    "from sklearn.model_selection import GridSearchCV"
   ]
  },
  {
   "cell_type": "code",
   "execution_count": 104,
   "id": "fcc1869c-f4b0-421a-9341-ca9070afbc0d",
   "metadata": {},
   "outputs": [],
   "source": [
    "param_grid = {'n_estimators':[10,100,1000],'max_depth':range(1,6),'min_samples_split':np.linspace(0.1,0.6,5)}"
   ]
  },
  {
   "cell_type": "code",
   "execution_count": 105,
   "id": "b020bbd3-2e29-48b6-a230-19bce4113199",
   "metadata": {},
   "outputs": [],
   "source": [
    "grid = GridSearchCV(estimator=rf,param_grid=param_grid,verbose=3)"
   ]
  },
  {
   "cell_type": "code",
   "execution_count": 106,
   "id": "629423f5-f8cf-4e63-a63a-90bab710f2e1",
   "metadata": {},
   "outputs": [
    {
     "name": "stderr",
     "output_type": "stream",
     "text": [
      "c:\\users\\gaurav\\anaconda3\\envs\\deeplnenv\\lib\\site-packages\\sklearn\\model_selection\\_split.py:1978: FutureWarning: The default value of cv will change from 3 to 5 in version 0.22. Specify it explicitly to silence this warning.\n",
      "  warnings.warn(CV_WARNING, FutureWarning)\n",
      "[Parallel(n_jobs=1)]: Using backend SequentialBackend with 1 concurrent workers.\n",
      "[Parallel(n_jobs=1)]: Done   1 out of   1 | elapsed:    0.0s remaining:    0.0s\n",
      "[Parallel(n_jobs=1)]: Done   2 out of   2 | elapsed:    0.0s remaining:    0.0s\n"
     ]
    },
    {
     "name": "stdout",
     "output_type": "stream",
     "text": [
      "Fitting 3 folds for each of 75 candidates, totalling 225 fits\n",
      "[CV] max_depth=1, min_samples_split=0.1, n_estimators=10 .............\n",
      "[CV]  max_depth=1, min_samples_split=0.1, n_estimators=10, score=0.245, total=   0.0s\n",
      "[CV] max_depth=1, min_samples_split=0.1, n_estimators=10 .............\n",
      "[CV]  max_depth=1, min_samples_split=0.1, n_estimators=10, score=0.254, total=   0.0s\n",
      "[CV] max_depth=1, min_samples_split=0.1, n_estimators=10 .............\n",
      "[CV]  max_depth=1, min_samples_split=0.1, n_estimators=10, score=0.260, total=   0.0s\n",
      "[CV] max_depth=1, min_samples_split=0.1, n_estimators=100 ............\n",
      "[CV]  max_depth=1, min_samples_split=0.1, n_estimators=100, score=0.244, total=   0.2s\n",
      "[CV] max_depth=1, min_samples_split=0.1, n_estimators=100 ............\n",
      "[CV]  max_depth=1, min_samples_split=0.1, n_estimators=100, score=0.256, total=   0.2s\n",
      "[CV] max_depth=1, min_samples_split=0.1, n_estimators=100 ............\n",
      "[CV]  max_depth=1, min_samples_split=0.1, n_estimators=100, score=0.263, total=   0.2s\n",
      "[CV] max_depth=1, min_samples_split=0.1, n_estimators=1000 ...........\n",
      "[CV]  max_depth=1, min_samples_split=0.1, n_estimators=1000, score=0.245, total=   2.2s\n",
      "[CV] max_depth=1, min_samples_split=0.1, n_estimators=1000 ...........\n",
      "[CV]  max_depth=1, min_samples_split=0.1, n_estimators=1000, score=0.254, total=   2.0s\n",
      "[CV] max_depth=1, min_samples_split=0.1, n_estimators=1000 ...........\n",
      "[CV]  max_depth=1, min_samples_split=0.1, n_estimators=1000, score=0.261, total=   2.1s\n",
      "[CV] max_depth=1, min_samples_split=0.225, n_estimators=10 ...........\n",
      "[CV]  max_depth=1, min_samples_split=0.225, n_estimators=10, score=0.245, total=   0.0s\n",
      "[CV] max_depth=1, min_samples_split=0.225, n_estimators=10 ...........\n",
      "[CV]  max_depth=1, min_samples_split=0.225, n_estimators=10, score=0.251, total=   0.0s\n",
      "[CV] max_depth=1, min_samples_split=0.225, n_estimators=10 ...........\n",
      "[CV]  max_depth=1, min_samples_split=0.225, n_estimators=10, score=0.249, total=   0.0s\n",
      "[CV] max_depth=1, min_samples_split=0.225, n_estimators=100 ..........\n",
      "[CV]  max_depth=1, min_samples_split=0.225, n_estimators=100, score=0.245, total=   0.2s\n",
      "[CV] max_depth=1, min_samples_split=0.225, n_estimators=100 ..........\n",
      "[CV]  max_depth=1, min_samples_split=0.225, n_estimators=100, score=0.254, total=   0.2s\n",
      "[CV] max_depth=1, min_samples_split=0.225, n_estimators=100 ..........\n",
      "[CV]  max_depth=1, min_samples_split=0.225, n_estimators=100, score=0.260, total=   0.2s\n",
      "[CV] max_depth=1, min_samples_split=0.225, n_estimators=1000 .........\n",
      "[CV]  max_depth=1, min_samples_split=0.225, n_estimators=1000, score=0.246, total=   2.0s\n",
      "[CV] max_depth=1, min_samples_split=0.225, n_estimators=1000 .........\n",
      "[CV]  max_depth=1, min_samples_split=0.225, n_estimators=1000, score=0.254, total=   2.0s\n",
      "[CV] max_depth=1, min_samples_split=0.225, n_estimators=1000 .........\n",
      "[CV]  max_depth=1, min_samples_split=0.225, n_estimators=1000, score=0.260, total=   2.0s\n",
      "[CV] max_depth=1, min_samples_split=0.35, n_estimators=10 ............\n",
      "[CV]  max_depth=1, min_samples_split=0.35, n_estimators=10, score=0.244, total=   0.0s\n",
      "[CV] max_depth=1, min_samples_split=0.35, n_estimators=10 ............\n",
      "[CV]  max_depth=1, min_samples_split=0.35, n_estimators=10, score=0.258, total=   0.0s\n",
      "[CV] max_depth=1, min_samples_split=0.35, n_estimators=10 ............\n",
      "[CV]  max_depth=1, min_samples_split=0.35, n_estimators=10, score=0.265, total=   0.0s\n",
      "[CV] max_depth=1, min_samples_split=0.35, n_estimators=100 ...........\n",
      "[CV]  max_depth=1, min_samples_split=0.35, n_estimators=100, score=0.248, total=   0.2s\n",
      "[CV] max_depth=1, min_samples_split=0.35, n_estimators=100 ...........\n",
      "[CV]  max_depth=1, min_samples_split=0.35, n_estimators=100, score=0.253, total=   0.2s\n",
      "[CV] max_depth=1, min_samples_split=0.35, n_estimators=100 ...........\n",
      "[CV]  max_depth=1, min_samples_split=0.35, n_estimators=100, score=0.256, total=   0.2s\n",
      "[CV] max_depth=1, min_samples_split=0.35, n_estimators=1000 ..........\n",
      "[CV]  max_depth=1, min_samples_split=0.35, n_estimators=1000, score=0.246, total=   1.9s\n",
      "[CV] max_depth=1, min_samples_split=0.35, n_estimators=1000 ..........\n",
      "[CV]  max_depth=1, min_samples_split=0.35, n_estimators=1000, score=0.254, total=   2.0s\n",
      "[CV] max_depth=1, min_samples_split=0.35, n_estimators=1000 ..........\n",
      "[CV]  max_depth=1, min_samples_split=0.35, n_estimators=1000, score=0.259, total=   1.9s\n",
      "[CV] max_depth=1, min_samples_split=0.475, n_estimators=10 ...........\n",
      "[CV]  max_depth=1, min_samples_split=0.475, n_estimators=10, score=0.246, total=   0.0s\n",
      "[CV] max_depth=1, min_samples_split=0.475, n_estimators=10 ...........\n",
      "[CV]  max_depth=1, min_samples_split=0.475, n_estimators=10, score=0.252, total=   0.0s\n",
      "[CV] max_depth=1, min_samples_split=0.475, n_estimators=10 ...........\n",
      "[CV]  max_depth=1, min_samples_split=0.475, n_estimators=10, score=0.260, total=   0.0s\n",
      "[CV] max_depth=1, min_samples_split=0.475, n_estimators=100 ..........\n",
      "[CV]  max_depth=1, min_samples_split=0.475, n_estimators=100, score=0.244, total=   0.2s\n",
      "[CV] max_depth=1, min_samples_split=0.475, n_estimators=100 ..........\n",
      "[CV]  max_depth=1, min_samples_split=0.475, n_estimators=100, score=0.255, total=   0.2s\n",
      "[CV] max_depth=1, min_samples_split=0.475, n_estimators=100 ..........\n",
      "[CV]  max_depth=1, min_samples_split=0.475, n_estimators=100, score=0.259, total=   0.2s\n",
      "[CV] max_depth=1, min_samples_split=0.475, n_estimators=1000 .........\n",
      "[CV]  max_depth=1, min_samples_split=0.475, n_estimators=1000, score=0.245, total=   1.9s\n",
      "[CV] max_depth=1, min_samples_split=0.475, n_estimators=1000 .........\n",
      "[CV]  max_depth=1, min_samples_split=0.475, n_estimators=1000, score=0.254, total=   1.8s\n",
      "[CV] max_depth=1, min_samples_split=0.475, n_estimators=1000 .........\n",
      "[CV]  max_depth=1, min_samples_split=0.475, n_estimators=1000, score=0.260, total=   1.8s\n",
      "[CV] max_depth=1, min_samples_split=0.6, n_estimators=10 .............\n",
      "[CV]  max_depth=1, min_samples_split=0.6, n_estimators=10, score=0.244, total=   0.0s\n",
      "[CV] max_depth=1, min_samples_split=0.6, n_estimators=10 .............\n",
      "[CV]  max_depth=1, min_samples_split=0.6, n_estimators=10, score=0.254, total=   0.0s\n",
      "[CV] max_depth=1, min_samples_split=0.6, n_estimators=10 .............\n",
      "[CV]  max_depth=1, min_samples_split=0.6, n_estimators=10, score=0.251, total=   0.0s\n",
      "[CV] max_depth=1, min_samples_split=0.6, n_estimators=100 ............\n",
      "[CV]  max_depth=1, min_samples_split=0.6, n_estimators=100, score=0.246, total=   0.2s\n",
      "[CV] max_depth=1, min_samples_split=0.6, n_estimators=100 ............\n",
      "[CV]  max_depth=1, min_samples_split=0.6, n_estimators=100, score=0.255, total=   0.2s\n",
      "[CV] max_depth=1, min_samples_split=0.6, n_estimators=100 ............\n",
      "[CV]  max_depth=1, min_samples_split=0.6, n_estimators=100, score=0.260, total=   0.2s\n",
      "[CV] max_depth=1, min_samples_split=0.6, n_estimators=1000 ...........\n",
      "[CV]  max_depth=1, min_samples_split=0.6, n_estimators=1000, score=0.246, total=   1.9s\n",
      "[CV] max_depth=1, min_samples_split=0.6, n_estimators=1000 ...........\n",
      "[CV]  max_depth=1, min_samples_split=0.6, n_estimators=1000, score=0.254, total=   1.9s\n",
      "[CV] max_depth=1, min_samples_split=0.6, n_estimators=1000 ...........\n",
      "[CV]  max_depth=1, min_samples_split=0.6, n_estimators=1000, score=0.260, total=   1.9s\n",
      "[CV] max_depth=2, min_samples_split=0.1, n_estimators=10 .............\n",
      "[CV]  max_depth=2, min_samples_split=0.1, n_estimators=10, score=0.451, total=   0.0s\n",
      "[CV] max_depth=2, min_samples_split=0.1, n_estimators=10 .............\n",
      "[CV]  max_depth=2, min_samples_split=0.1, n_estimators=10, score=0.468, total=   0.0s\n",
      "[CV] max_depth=2, min_samples_split=0.1, n_estimators=10 .............\n",
      "[CV]  max_depth=2, min_samples_split=0.1, n_estimators=10, score=0.469, total=   0.0s\n",
      "[CV] max_depth=2, min_samples_split=0.1, n_estimators=100 ............\n",
      "[CV]  max_depth=2, min_samples_split=0.1, n_estimators=100, score=0.452, total=   0.3s\n",
      "[CV] max_depth=2, min_samples_split=0.1, n_estimators=100 ............\n",
      "[CV]  max_depth=2, min_samples_split=0.1, n_estimators=100, score=0.467, total=   0.3s\n",
      "[CV] max_depth=2, min_samples_split=0.1, n_estimators=100 ............\n",
      "[CV]  max_depth=2, min_samples_split=0.1, n_estimators=100, score=0.462, total=   0.3s\n",
      "[CV] max_depth=2, min_samples_split=0.1, n_estimators=1000 ...........\n",
      "[CV]  max_depth=2, min_samples_split=0.1, n_estimators=1000, score=0.453, total=   2.5s\n",
      "[CV] max_depth=2, min_samples_split=0.1, n_estimators=1000 ...........\n",
      "[CV]  max_depth=2, min_samples_split=0.1, n_estimators=1000, score=0.468, total=   2.6s\n",
      "[CV] max_depth=2, min_samples_split=0.1, n_estimators=1000 ...........\n",
      "[CV]  max_depth=2, min_samples_split=0.1, n_estimators=1000, score=0.466, total=   2.6s\n",
      "[CV] max_depth=2, min_samples_split=0.225, n_estimators=10 ...........\n",
      "[CV]  max_depth=2, min_samples_split=0.225, n_estimators=10, score=0.445, total=   0.0s\n",
      "[CV] max_depth=2, min_samples_split=0.225, n_estimators=10 ...........\n",
      "[CV]  max_depth=2, min_samples_split=0.225, n_estimators=10, score=0.455, total=   0.0s\n",
      "[CV] max_depth=2, min_samples_split=0.225, n_estimators=10 ...........\n",
      "[CV]  max_depth=2, min_samples_split=0.225, n_estimators=10, score=0.446, total=   0.0s\n",
      "[CV] max_depth=2, min_samples_split=0.225, n_estimators=100 ..........\n",
      "[CV]  max_depth=2, min_samples_split=0.225, n_estimators=100, score=0.448, total=   0.3s\n",
      "[CV] max_depth=2, min_samples_split=0.225, n_estimators=100 ..........\n",
      "[CV]  max_depth=2, min_samples_split=0.225, n_estimators=100, score=0.467, total=   0.3s\n",
      "[CV] max_depth=2, min_samples_split=0.225, n_estimators=100 ..........\n",
      "[CV]  max_depth=2, min_samples_split=0.225, n_estimators=100, score=0.468, total=   0.3s\n",
      "[CV] max_depth=2, min_samples_split=0.225, n_estimators=1000 .........\n",
      "[CV]  max_depth=2, min_samples_split=0.225, n_estimators=1000, score=0.452, total=   2.7s\n",
      "[CV] max_depth=2, min_samples_split=0.225, n_estimators=1000 .........\n",
      "[CV]  max_depth=2, min_samples_split=0.225, n_estimators=1000, score=0.468, total=   2.6s\n",
      "[CV] max_depth=2, min_samples_split=0.225, n_estimators=1000 .........\n",
      "[CV]  max_depth=2, min_samples_split=0.225, n_estimators=1000, score=0.466, total=   2.6s\n",
      "[CV] max_depth=2, min_samples_split=0.35, n_estimators=10 ............\n",
      "[CV]  max_depth=2, min_samples_split=0.35, n_estimators=10, score=0.278, total=   0.0s\n",
      "[CV] max_depth=2, min_samples_split=0.35, n_estimators=10 ............\n",
      "[CV]  max_depth=2, min_samples_split=0.35, n_estimators=10, score=0.295, total=   0.0s\n",
      "[CV] max_depth=2, min_samples_split=0.35, n_estimators=10 ............\n",
      "[CV]  max_depth=2, min_samples_split=0.35, n_estimators=10, score=0.298, total=   0.0s\n",
      "[CV] max_depth=2, min_samples_split=0.35, n_estimators=100 ...........\n",
      "[CV]  max_depth=2, min_samples_split=0.35, n_estimators=100, score=0.286, total=   0.2s\n",
      "[CV] max_depth=2, min_samples_split=0.35, n_estimators=100 ...........\n",
      "[CV]  max_depth=2, min_samples_split=0.35, n_estimators=100, score=0.302, total=   0.2s\n",
      "[CV] max_depth=2, min_samples_split=0.35, n_estimators=100 ...........\n",
      "[CV]  max_depth=2, min_samples_split=0.35, n_estimators=100, score=0.273, total=   0.2s\n",
      "[CV] max_depth=2, min_samples_split=0.35, n_estimators=1000 ..........\n",
      "[CV]  max_depth=2, min_samples_split=0.35, n_estimators=1000, score=0.286, total=   2.1s\n",
      "[CV] max_depth=2, min_samples_split=0.35, n_estimators=1000 ..........\n",
      "[CV]  max_depth=2, min_samples_split=0.35, n_estimators=1000, score=0.302, total=   2.1s\n",
      "[CV] max_depth=2, min_samples_split=0.35, n_estimators=1000 ..........\n",
      "[CV]  max_depth=2, min_samples_split=0.35, n_estimators=1000, score=0.282, total=   2.1s\n",
      "[CV] max_depth=2, min_samples_split=0.475, n_estimators=10 ...........\n",
      "[CV]  max_depth=2, min_samples_split=0.475, n_estimators=10, score=0.244, total=   0.0s\n",
      "[CV] max_depth=2, min_samples_split=0.475, n_estimators=10 ...........\n",
      "[CV]  max_depth=2, min_samples_split=0.475, n_estimators=10, score=0.256, total=   0.0s\n",
      "[CV] max_depth=2, min_samples_split=0.475, n_estimators=10 ...........\n",
      "[CV]  max_depth=2, min_samples_split=0.475, n_estimators=10, score=0.243, total=   0.0s\n",
      "[CV] max_depth=2, min_samples_split=0.475, n_estimators=100 ..........\n",
      "[CV]  max_depth=2, min_samples_split=0.475, n_estimators=100, score=0.244, total=   0.2s\n",
      "[CV] max_depth=2, min_samples_split=0.475, n_estimators=100 ..........\n",
      "[CV]  max_depth=2, min_samples_split=0.475, n_estimators=100, score=0.253, total=   0.2s\n",
      "[CV] max_depth=2, min_samples_split=0.475, n_estimators=100 ..........\n",
      "[CV]  max_depth=2, min_samples_split=0.475, n_estimators=100, score=0.262, total=   0.2s\n",
      "[CV] max_depth=2, min_samples_split=0.475, n_estimators=1000 .........\n",
      "[CV]  max_depth=2, min_samples_split=0.475, n_estimators=1000, score=0.246, total=   1.9s\n",
      "[CV] max_depth=2, min_samples_split=0.475, n_estimators=1000 .........\n",
      "[CV]  max_depth=2, min_samples_split=0.475, n_estimators=1000, score=0.254, total=   2.0s\n",
      "[CV] max_depth=2, min_samples_split=0.475, n_estimators=1000 .........\n",
      "[CV]  max_depth=2, min_samples_split=0.475, n_estimators=1000, score=0.259, total=   2.0s\n",
      "[CV] max_depth=2, min_samples_split=0.6, n_estimators=10 .............\n",
      "[CV]  max_depth=2, min_samples_split=0.6, n_estimators=10, score=0.240, total=   0.0s\n",
      "[CV] max_depth=2, min_samples_split=0.6, n_estimators=10 .............\n",
      "[CV]  max_depth=2, min_samples_split=0.6, n_estimators=10, score=0.253, total=   0.0s\n",
      "[CV] max_depth=2, min_samples_split=0.6, n_estimators=10 .............\n",
      "[CV]  max_depth=2, min_samples_split=0.6, n_estimators=10, score=0.255, total=   0.0s\n",
      "[CV] max_depth=2, min_samples_split=0.6, n_estimators=100 ............\n",
      "[CV]  max_depth=2, min_samples_split=0.6, n_estimators=100, score=0.245, total=   0.2s\n",
      "[CV] max_depth=2, min_samples_split=0.6, n_estimators=100 ............\n",
      "[CV]  max_depth=2, min_samples_split=0.6, n_estimators=100, score=0.251, total=   0.2s\n",
      "[CV] max_depth=2, min_samples_split=0.6, n_estimators=100 ............\n",
      "[CV]  max_depth=2, min_samples_split=0.6, n_estimators=100, score=0.262, total=   0.2s\n",
      "[CV] max_depth=2, min_samples_split=0.6, n_estimators=1000 ...........\n",
      "[CV]  max_depth=2, min_samples_split=0.6, n_estimators=1000, score=0.246, total=   1.9s\n",
      "[CV] max_depth=2, min_samples_split=0.6, n_estimators=1000 ...........\n",
      "[CV]  max_depth=2, min_samples_split=0.6, n_estimators=1000, score=0.254, total=   2.2s\n",
      "[CV] max_depth=2, min_samples_split=0.6, n_estimators=1000 ...........\n",
      "[CV]  max_depth=2, min_samples_split=0.6, n_estimators=1000, score=0.260, total=   2.0s\n",
      "[CV] max_depth=3, min_samples_split=0.1, n_estimators=10 .............\n",
      "[CV]  max_depth=3, min_samples_split=0.1, n_estimators=10, score=0.549, total=   0.0s\n",
      "[CV] max_depth=3, min_samples_split=0.1, n_estimators=10 .............\n",
      "[CV]  max_depth=3, min_samples_split=0.1, n_estimators=10, score=0.541, total=   0.0s\n",
      "[CV] max_depth=3, min_samples_split=0.1, n_estimators=10 .............\n",
      "[CV]  max_depth=3, min_samples_split=0.1, n_estimators=10, score=0.548, total=   0.0s\n",
      "[CV] max_depth=3, min_samples_split=0.1, n_estimators=100 ............\n",
      "[CV]  max_depth=3, min_samples_split=0.1, n_estimators=100, score=0.547, total=   0.4s\n",
      "[CV] max_depth=3, min_samples_split=0.1, n_estimators=100 ............\n",
      "[CV]  max_depth=3, min_samples_split=0.1, n_estimators=100, score=0.540, total=   0.4s\n",
      "[CV] max_depth=3, min_samples_split=0.1, n_estimators=100 ............\n",
      "[CV]  max_depth=3, min_samples_split=0.1, n_estimators=100, score=0.558, total=   0.4s\n",
      "[CV] max_depth=3, min_samples_split=0.1, n_estimators=1000 ...........\n",
      "[CV]  max_depth=3, min_samples_split=0.1, n_estimators=1000, score=0.547, total=   3.3s\n",
      "[CV] max_depth=3, min_samples_split=0.1, n_estimators=1000 ...........\n",
      "[CV]  max_depth=3, min_samples_split=0.1, n_estimators=1000, score=0.540, total=   3.4s\n",
      "[CV] max_depth=3, min_samples_split=0.1, n_estimators=1000 ...........\n",
      "[CV]  max_depth=3, min_samples_split=0.1, n_estimators=1000, score=0.560, total=   3.2s\n",
      "[CV] max_depth=3, min_samples_split=0.225, n_estimators=10 ...........\n",
      "[CV]  max_depth=3, min_samples_split=0.225, n_estimators=10, score=0.512, total=   0.0s\n",
      "[CV] max_depth=3, min_samples_split=0.225, n_estimators=10 ...........\n",
      "[CV]  max_depth=3, min_samples_split=0.225, n_estimators=10, score=0.538, total=   0.0s\n",
      "[CV] max_depth=3, min_samples_split=0.225, n_estimators=10 ...........\n",
      "[CV]  max_depth=3, min_samples_split=0.225, n_estimators=10, score=0.551, total=   0.0s\n",
      "[CV] max_depth=3, min_samples_split=0.225, n_estimators=100 ..........\n",
      "[CV]  max_depth=3, min_samples_split=0.225, n_estimators=100, score=0.534, total=   0.3s\n",
      "[CV] max_depth=3, min_samples_split=0.225, n_estimators=100 ..........\n",
      "[CV]  max_depth=3, min_samples_split=0.225, n_estimators=100, score=0.534, total=   0.3s\n",
      "[CV] max_depth=3, min_samples_split=0.225, n_estimators=100 ..........\n",
      "[CV]  max_depth=3, min_samples_split=0.225, n_estimators=100, score=0.554, total=   0.3s\n",
      "[CV] max_depth=3, min_samples_split=0.225, n_estimators=1000 .........\n",
      "[CV]  max_depth=3, min_samples_split=0.225, n_estimators=1000, score=0.535, total=   3.2s\n",
      "[CV] max_depth=3, min_samples_split=0.225, n_estimators=1000 .........\n",
      "[CV]  max_depth=3, min_samples_split=0.225, n_estimators=1000, score=0.536, total=   3.2s\n",
      "[CV] max_depth=3, min_samples_split=0.225, n_estimators=1000 .........\n",
      "[CV]  max_depth=3, min_samples_split=0.225, n_estimators=1000, score=0.555, total=   3.2s\n",
      "[CV] max_depth=3, min_samples_split=0.35, n_estimators=10 ............\n",
      "[CV]  max_depth=3, min_samples_split=0.35, n_estimators=10, score=0.277, total=   0.0s\n",
      "[CV] max_depth=3, min_samples_split=0.35, n_estimators=10 ............\n",
      "[CV]  max_depth=3, min_samples_split=0.35, n_estimators=10, score=0.294, total=   0.0s\n",
      "[CV] max_depth=3, min_samples_split=0.35, n_estimators=10 ............\n",
      "[CV]  max_depth=3, min_samples_split=0.35, n_estimators=10, score=0.295, total=   0.0s\n",
      "[CV] max_depth=3, min_samples_split=0.35, n_estimators=100 ...........\n",
      "[CV]  max_depth=3, min_samples_split=0.35, n_estimators=100, score=0.282, total=   0.2s\n",
      "[CV] max_depth=3, min_samples_split=0.35, n_estimators=100 ...........\n",
      "[CV]  max_depth=3, min_samples_split=0.35, n_estimators=100, score=0.298, total=   0.2s\n",
      "[CV] max_depth=3, min_samples_split=0.35, n_estimators=100 ...........\n",
      "[CV]  max_depth=3, min_samples_split=0.35, n_estimators=100, score=0.284, total=   0.2s\n",
      "[CV] max_depth=3, min_samples_split=0.35, n_estimators=1000 ..........\n",
      "[CV]  max_depth=3, min_samples_split=0.35, n_estimators=1000, score=0.287, total=   2.2s\n",
      "[CV] max_depth=3, min_samples_split=0.35, n_estimators=1000 ..........\n",
      "[CV]  max_depth=3, min_samples_split=0.35, n_estimators=1000, score=0.301, total=   2.1s\n",
      "[CV] max_depth=3, min_samples_split=0.35, n_estimators=1000 ..........\n",
      "[CV]  max_depth=3, min_samples_split=0.35, n_estimators=1000, score=0.287, total=   1.9s\n",
      "[CV] max_depth=3, min_samples_split=0.475, n_estimators=10 ...........\n",
      "[CV]  max_depth=3, min_samples_split=0.475, n_estimators=10, score=0.246, total=   0.0s\n",
      "[CV] max_depth=3, min_samples_split=0.475, n_estimators=10 ...........\n",
      "[CV]  max_depth=3, min_samples_split=0.475, n_estimators=10, score=0.257, total=   0.0s\n",
      "[CV] max_depth=3, min_samples_split=0.475, n_estimators=10 ...........\n",
      "[CV]  max_depth=3, min_samples_split=0.475, n_estimators=10, score=0.265, total=   0.0s\n",
      "[CV] max_depth=3, min_samples_split=0.475, n_estimators=100 ..........\n",
      "[CV]  max_depth=3, min_samples_split=0.475, n_estimators=100, score=0.245, total=   0.2s\n",
      "[CV] max_depth=3, min_samples_split=0.475, n_estimators=100 ..........\n",
      "[CV]  max_depth=3, min_samples_split=0.475, n_estimators=100, score=0.255, total=   0.2s\n",
      "[CV] max_depth=3, min_samples_split=0.475, n_estimators=100 ..........\n",
      "[CV]  max_depth=3, min_samples_split=0.475, n_estimators=100, score=0.260, total=   0.2s\n",
      "[CV] max_depth=3, min_samples_split=0.475, n_estimators=1000 .........\n",
      "[CV]  max_depth=3, min_samples_split=0.475, n_estimators=1000, score=0.246, total=   1.7s\n",
      "[CV] max_depth=3, min_samples_split=0.475, n_estimators=1000 .........\n",
      "[CV]  max_depth=3, min_samples_split=0.475, n_estimators=1000, score=0.255, total=   1.7s\n",
      "[CV] max_depth=3, min_samples_split=0.475, n_estimators=1000 .........\n",
      "[CV]  max_depth=3, min_samples_split=0.475, n_estimators=1000, score=0.259, total=   1.7s\n",
      "[CV] max_depth=3, min_samples_split=0.6, n_estimators=10 .............\n",
      "[CV]  max_depth=3, min_samples_split=0.6, n_estimators=10, score=0.245, total=   0.0s\n",
      "[CV] max_depth=3, min_samples_split=0.6, n_estimators=10 .............\n",
      "[CV]  max_depth=3, min_samples_split=0.6, n_estimators=10, score=0.244, total=   0.0s\n",
      "[CV] max_depth=3, min_samples_split=0.6, n_estimators=10 .............\n",
      "[CV]  max_depth=3, min_samples_split=0.6, n_estimators=10, score=0.247, total=   0.0s\n",
      "[CV] max_depth=3, min_samples_split=0.6, n_estimators=100 ............\n",
      "[CV]  max_depth=3, min_samples_split=0.6, n_estimators=100, score=0.245, total=   0.2s\n",
      "[CV] max_depth=3, min_samples_split=0.6, n_estimators=100 ............\n",
      "[CV]  max_depth=3, min_samples_split=0.6, n_estimators=100, score=0.253, total=   0.2s\n",
      "[CV] max_depth=3, min_samples_split=0.6, n_estimators=100 ............\n",
      "[CV]  max_depth=3, min_samples_split=0.6, n_estimators=100, score=0.260, total=   0.2s\n",
      "[CV] max_depth=3, min_samples_split=0.6, n_estimators=1000 ...........\n",
      "[CV]  max_depth=3, min_samples_split=0.6, n_estimators=1000, score=0.246, total=   1.7s\n",
      "[CV] max_depth=3, min_samples_split=0.6, n_estimators=1000 ...........\n",
      "[CV]  max_depth=3, min_samples_split=0.6, n_estimators=1000, score=0.254, total=   1.8s\n",
      "[CV] max_depth=3, min_samples_split=0.6, n_estimators=1000 ...........\n",
      "[CV]  max_depth=3, min_samples_split=0.6, n_estimators=1000, score=0.259, total=   1.9s\n",
      "[CV] max_depth=4, min_samples_split=0.1, n_estimators=10 .............\n",
      "[CV]  max_depth=4, min_samples_split=0.1, n_estimators=10, score=0.578, total=   0.0s\n",
      "[CV] max_depth=4, min_samples_split=0.1, n_estimators=10 .............\n",
      "[CV]  max_depth=4, min_samples_split=0.1, n_estimators=10, score=0.579, total=   0.0s\n",
      "[CV] max_depth=4, min_samples_split=0.1, n_estimators=10 .............\n",
      "[CV]  max_depth=4, min_samples_split=0.1, n_estimators=10, score=0.598, total=   0.0s\n",
      "[CV] max_depth=4, min_samples_split=0.1, n_estimators=100 ............\n",
      "[CV]  max_depth=4, min_samples_split=0.1, n_estimators=100, score=0.579, total=   0.4s\n",
      "[CV] max_depth=4, min_samples_split=0.1, n_estimators=100 ............\n",
      "[CV]  max_depth=4, min_samples_split=0.1, n_estimators=100, score=0.579, total=   0.4s\n",
      "[CV] max_depth=4, min_samples_split=0.1, n_estimators=100 ............\n",
      "[CV]  max_depth=4, min_samples_split=0.1, n_estimators=100, score=0.599, total=   0.4s\n",
      "[CV] max_depth=4, min_samples_split=0.1, n_estimators=1000 ...........\n",
      "[CV]  max_depth=4, min_samples_split=0.1, n_estimators=1000, score=0.578, total=   3.9s\n",
      "[CV] max_depth=4, min_samples_split=0.1, n_estimators=1000 ...........\n",
      "[CV]  max_depth=4, min_samples_split=0.1, n_estimators=1000, score=0.579, total=   3.8s\n",
      "[CV] max_depth=4, min_samples_split=0.1, n_estimators=1000 ...........\n",
      "[CV]  max_depth=4, min_samples_split=0.1, n_estimators=1000, score=0.598, total=   3.8s\n",
      "[CV] max_depth=4, min_samples_split=0.225, n_estimators=10 ...........\n",
      "[CV]  max_depth=4, min_samples_split=0.225, n_estimators=10, score=0.559, total=   0.0s\n",
      "[CV] max_depth=4, min_samples_split=0.225, n_estimators=10 ...........\n",
      "[CV]  max_depth=4, min_samples_split=0.225, n_estimators=10, score=0.557, total=   0.0s\n",
      "[CV] max_depth=4, min_samples_split=0.225, n_estimators=10 ...........\n",
      "[CV]  max_depth=4, min_samples_split=0.225, n_estimators=10, score=0.572, total=   0.0s\n",
      "[CV] max_depth=4, min_samples_split=0.225, n_estimators=100 ..........\n",
      "[CV]  max_depth=4, min_samples_split=0.225, n_estimators=100, score=0.547, total=   0.3s\n",
      "[CV] max_depth=4, min_samples_split=0.225, n_estimators=100 ..........\n",
      "[CV]  max_depth=4, min_samples_split=0.225, n_estimators=100, score=0.547, total=   0.3s\n",
      "[CV] max_depth=4, min_samples_split=0.225, n_estimators=100 ..........\n",
      "[CV]  max_depth=4, min_samples_split=0.225, n_estimators=100, score=0.579, total=   0.3s\n",
      "[CV] max_depth=4, min_samples_split=0.225, n_estimators=1000 .........\n",
      "[CV]  max_depth=4, min_samples_split=0.225, n_estimators=1000, score=0.549, total=   3.2s\n",
      "[CV] max_depth=4, min_samples_split=0.225, n_estimators=1000 .........\n",
      "[CV]  max_depth=4, min_samples_split=0.225, n_estimators=1000, score=0.547, total=   3.2s\n",
      "[CV] max_depth=4, min_samples_split=0.225, n_estimators=1000 .........\n",
      "[CV]  max_depth=4, min_samples_split=0.225, n_estimators=1000, score=0.579, total=   3.4s\n",
      "[CV] max_depth=4, min_samples_split=0.35, n_estimators=10 ............\n",
      "[CV]  max_depth=4, min_samples_split=0.35, n_estimators=10, score=0.275, total=   0.0s\n",
      "[CV] max_depth=4, min_samples_split=0.35, n_estimators=10 ............\n",
      "[CV]  max_depth=4, min_samples_split=0.35, n_estimators=10, score=0.296, total=   0.0s\n",
      "[CV] max_depth=4, min_samples_split=0.35, n_estimators=10 ............\n",
      "[CV]  max_depth=4, min_samples_split=0.35, n_estimators=10, score=0.261, total=   0.0s\n",
      "[CV] max_depth=4, min_samples_split=0.35, n_estimators=100 ...........\n",
      "[CV]  max_depth=4, min_samples_split=0.35, n_estimators=100, score=0.286, total=   0.2s\n",
      "[CV] max_depth=4, min_samples_split=0.35, n_estimators=100 ...........\n",
      "[CV]  max_depth=4, min_samples_split=0.35, n_estimators=100, score=0.299, total=   0.2s\n",
      "[CV] max_depth=4, min_samples_split=0.35, n_estimators=100 ...........\n",
      "[CV]  max_depth=4, min_samples_split=0.35, n_estimators=100, score=0.285, total=   0.2s\n",
      "[CV] max_depth=4, min_samples_split=0.35, n_estimators=1000 ..........\n",
      "[CV]  max_depth=4, min_samples_split=0.35, n_estimators=1000, score=0.286, total=   2.1s\n",
      "[CV] max_depth=4, min_samples_split=0.35, n_estimators=1000 ..........\n",
      "[CV]  max_depth=4, min_samples_split=0.35, n_estimators=1000, score=0.300, total=   2.0s\n",
      "[CV] max_depth=4, min_samples_split=0.35, n_estimators=1000 ..........\n",
      "[CV]  max_depth=4, min_samples_split=0.35, n_estimators=1000, score=0.289, total=   2.0s\n",
      "[CV] max_depth=4, min_samples_split=0.475, n_estimators=10 ...........\n",
      "[CV]  max_depth=4, min_samples_split=0.475, n_estimators=10, score=0.239, total=   0.0s\n",
      "[CV] max_depth=4, min_samples_split=0.475, n_estimators=10 ...........\n",
      "[CV]  max_depth=4, min_samples_split=0.475, n_estimators=10, score=0.249, total=   0.0s\n",
      "[CV] max_depth=4, min_samples_split=0.475, n_estimators=10 ...........\n",
      "[CV]  max_depth=4, min_samples_split=0.475, n_estimators=10, score=0.260, total=   0.0s\n",
      "[CV] max_depth=4, min_samples_split=0.475, n_estimators=100 ..........\n",
      "[CV]  max_depth=4, min_samples_split=0.475, n_estimators=100, score=0.245, total=   0.2s\n",
      "[CV] max_depth=4, min_samples_split=0.475, n_estimators=100 ..........\n",
      "[CV]  max_depth=4, min_samples_split=0.475, n_estimators=100, score=0.254, total=   0.2s\n",
      "[CV] max_depth=4, min_samples_split=0.475, n_estimators=100 ..........\n",
      "[CV]  max_depth=4, min_samples_split=0.475, n_estimators=100, score=0.262, total=   0.2s\n",
      "[CV] max_depth=4, min_samples_split=0.475, n_estimators=1000 .........\n",
      "[CV]  max_depth=4, min_samples_split=0.475, n_estimators=1000, score=0.246, total=   1.9s\n",
      "[CV] max_depth=4, min_samples_split=0.475, n_estimators=1000 .........\n",
      "[CV]  max_depth=4, min_samples_split=0.475, n_estimators=1000, score=0.254, total=   1.8s\n",
      "[CV] max_depth=4, min_samples_split=0.475, n_estimators=1000 .........\n",
      "[CV]  max_depth=4, min_samples_split=0.475, n_estimators=1000, score=0.259, total=   1.8s\n",
      "[CV] max_depth=4, min_samples_split=0.6, n_estimators=10 .............\n",
      "[CV]  max_depth=4, min_samples_split=0.6, n_estimators=10, score=0.246, total=   0.0s\n",
      "[CV] max_depth=4, min_samples_split=0.6, n_estimators=10 .............\n",
      "[CV]  max_depth=4, min_samples_split=0.6, n_estimators=10, score=0.255, total=   0.0s\n",
      "[CV] max_depth=4, min_samples_split=0.6, n_estimators=10 .............\n",
      "[CV]  max_depth=4, min_samples_split=0.6, n_estimators=10, score=0.259, total=   0.0s\n",
      "[CV] max_depth=4, min_samples_split=0.6, n_estimators=100 ............\n",
      "[CV]  max_depth=4, min_samples_split=0.6, n_estimators=100, score=0.244, total=   0.2s\n",
      "[CV] max_depth=4, min_samples_split=0.6, n_estimators=100 ............\n",
      "[CV]  max_depth=4, min_samples_split=0.6, n_estimators=100, score=0.257, total=   0.2s\n",
      "[CV] max_depth=4, min_samples_split=0.6, n_estimators=100 ............\n",
      "[CV]  max_depth=4, min_samples_split=0.6, n_estimators=100, score=0.259, total=   0.2s\n",
      "[CV] max_depth=4, min_samples_split=0.6, n_estimators=1000 ...........\n",
      "[CV]  max_depth=4, min_samples_split=0.6, n_estimators=1000, score=0.246, total=   1.8s\n",
      "[CV] max_depth=4, min_samples_split=0.6, n_estimators=1000 ...........\n",
      "[CV]  max_depth=4, min_samples_split=0.6, n_estimators=1000, score=0.254, total=   1.8s\n",
      "[CV] max_depth=4, min_samples_split=0.6, n_estimators=1000 ...........\n",
      "[CV]  max_depth=4, min_samples_split=0.6, n_estimators=1000, score=0.259, total=   1.8s\n",
      "[CV] max_depth=5, min_samples_split=0.1, n_estimators=10 .............\n",
      "[CV]  max_depth=5, min_samples_split=0.1, n_estimators=10, score=0.581, total=   0.0s\n",
      "[CV] max_depth=5, min_samples_split=0.1, n_estimators=10 .............\n",
      "[CV]  max_depth=5, min_samples_split=0.1, n_estimators=10, score=0.584, total=   0.0s\n",
      "[CV] max_depth=5, min_samples_split=0.1, n_estimators=10 .............\n",
      "[CV]  max_depth=5, min_samples_split=0.1, n_estimators=10, score=0.604, total=   0.0s\n",
      "[CV] max_depth=5, min_samples_split=0.1, n_estimators=100 ............\n",
      "[CV]  max_depth=5, min_samples_split=0.1, n_estimators=100, score=0.580, total=   0.4s\n",
      "[CV] max_depth=5, min_samples_split=0.1, n_estimators=100 ............\n",
      "[CV]  max_depth=5, min_samples_split=0.1, n_estimators=100, score=0.584, total=   0.4s\n",
      "[CV] max_depth=5, min_samples_split=0.1, n_estimators=100 ............\n",
      "[CV]  max_depth=5, min_samples_split=0.1, n_estimators=100, score=0.603, total=   0.5s\n",
      "[CV] max_depth=5, min_samples_split=0.1, n_estimators=1000 ...........\n",
      "[CV]  max_depth=5, min_samples_split=0.1, n_estimators=1000, score=0.581, total=   4.3s\n",
      "[CV] max_depth=5, min_samples_split=0.1, n_estimators=1000 ...........\n",
      "[CV]  max_depth=5, min_samples_split=0.1, n_estimators=1000, score=0.583, total=   4.2s\n",
      "[CV] max_depth=5, min_samples_split=0.1, n_estimators=1000 ...........\n",
      "[CV]  max_depth=5, min_samples_split=0.1, n_estimators=1000, score=0.604, total=   4.2s\n",
      "[CV] max_depth=5, min_samples_split=0.225, n_estimators=10 ...........\n",
      "[CV]  max_depth=5, min_samples_split=0.225, n_estimators=10, score=0.552, total=   0.0s\n",
      "[CV] max_depth=5, min_samples_split=0.225, n_estimators=10 ...........\n",
      "[CV]  max_depth=5, min_samples_split=0.225, n_estimators=10, score=0.556, total=   0.0s\n",
      "[CV] max_depth=5, min_samples_split=0.225, n_estimators=10 ...........\n",
      "[CV]  max_depth=5, min_samples_split=0.225, n_estimators=10, score=0.564, total=   0.0s\n",
      "[CV] max_depth=5, min_samples_split=0.225, n_estimators=100 ..........\n",
      "[CV]  max_depth=5, min_samples_split=0.225, n_estimators=100, score=0.550, total=   0.3s\n",
      "[CV] max_depth=5, min_samples_split=0.225, n_estimators=100 ..........\n",
      "[CV]  max_depth=5, min_samples_split=0.225, n_estimators=100, score=0.547, total=   0.3s\n",
      "[CV] max_depth=5, min_samples_split=0.225, n_estimators=100 ..........\n",
      "[CV]  max_depth=5, min_samples_split=0.225, n_estimators=100, score=0.579, total=   0.4s\n",
      "[CV] max_depth=5, min_samples_split=0.225, n_estimators=1000 .........\n",
      "[CV]  max_depth=5, min_samples_split=0.225, n_estimators=1000, score=0.547, total=   3.4s\n",
      "[CV] max_depth=5, min_samples_split=0.225, n_estimators=1000 .........\n",
      "[CV]  max_depth=5, min_samples_split=0.225, n_estimators=1000, score=0.548, total=   3.1s\n",
      "[CV] max_depth=5, min_samples_split=0.225, n_estimators=1000 .........\n",
      "[CV]  max_depth=5, min_samples_split=0.225, n_estimators=1000, score=0.579, total=   3.3s\n",
      "[CV] max_depth=5, min_samples_split=0.35, n_estimators=10 ............\n",
      "[CV]  max_depth=5, min_samples_split=0.35, n_estimators=10, score=0.276, total=   0.0s\n",
      "[CV] max_depth=5, min_samples_split=0.35, n_estimators=10 ............\n",
      "[CV]  max_depth=5, min_samples_split=0.35, n_estimators=10, score=0.304, total=   0.0s\n",
      "[CV] max_depth=5, min_samples_split=0.35, n_estimators=10 ............\n",
      "[CV]  max_depth=5, min_samples_split=0.35, n_estimators=10, score=0.307, total=   0.0s\n",
      "[CV] max_depth=5, min_samples_split=0.35, n_estimators=100 ...........\n",
      "[CV]  max_depth=5, min_samples_split=0.35, n_estimators=100, score=0.284, total=   0.2s\n",
      "[CV] max_depth=5, min_samples_split=0.35, n_estimators=100 ...........\n",
      "[CV]  max_depth=5, min_samples_split=0.35, n_estimators=100, score=0.303, total=   0.2s\n",
      "[CV] max_depth=5, min_samples_split=0.35, n_estimators=100 ...........\n",
      "[CV]  max_depth=5, min_samples_split=0.35, n_estimators=100, score=0.290, total=   0.2s\n",
      "[CV] max_depth=5, min_samples_split=0.35, n_estimators=1000 ..........\n",
      "[CV]  max_depth=5, min_samples_split=0.35, n_estimators=1000, score=0.286, total=   2.1s\n",
      "[CV] max_depth=5, min_samples_split=0.35, n_estimators=1000 ..........\n",
      "[CV]  max_depth=5, min_samples_split=0.35, n_estimators=1000, score=0.302, total=   2.1s\n",
      "[CV] max_depth=5, min_samples_split=0.35, n_estimators=1000 ..........\n",
      "[CV]  max_depth=5, min_samples_split=0.35, n_estimators=1000, score=0.285, total=   1.9s\n",
      "[CV] max_depth=5, min_samples_split=0.475, n_estimators=10 ...........\n",
      "[CV]  max_depth=5, min_samples_split=0.475, n_estimators=10, score=0.248, total=   0.0s\n",
      "[CV] max_depth=5, min_samples_split=0.475, n_estimators=10 ...........\n",
      "[CV]  max_depth=5, min_samples_split=0.475, n_estimators=10, score=0.254, total=   0.0s\n",
      "[CV] max_depth=5, min_samples_split=0.475, n_estimators=10 ...........\n",
      "[CV]  max_depth=5, min_samples_split=0.475, n_estimators=10, score=0.258, total=   0.0s\n",
      "[CV] max_depth=5, min_samples_split=0.475, n_estimators=100 ..........\n",
      "[CV]  max_depth=5, min_samples_split=0.475, n_estimators=100, score=0.245, total=   0.2s\n",
      "[CV] max_depth=5, min_samples_split=0.475, n_estimators=100 ..........\n",
      "[CV]  max_depth=5, min_samples_split=0.475, n_estimators=100, score=0.254, total=   0.2s\n",
      "[CV] max_depth=5, min_samples_split=0.475, n_estimators=100 ..........\n",
      "[CV]  max_depth=5, min_samples_split=0.475, n_estimators=100, score=0.262, total=   0.2s\n",
      "[CV] max_depth=5, min_samples_split=0.475, n_estimators=1000 .........\n",
      "[CV]  max_depth=5, min_samples_split=0.475, n_estimators=1000, score=0.245, total=   1.9s\n",
      "[CV] max_depth=5, min_samples_split=0.475, n_estimators=1000 .........\n",
      "[CV]  max_depth=5, min_samples_split=0.475, n_estimators=1000, score=0.253, total=   1.8s\n",
      "[CV] max_depth=5, min_samples_split=0.475, n_estimators=1000 .........\n",
      "[CV]  max_depth=5, min_samples_split=0.475, n_estimators=1000, score=0.260, total=   1.8s\n",
      "[CV] max_depth=5, min_samples_split=0.6, n_estimators=10 .............\n",
      "[CV]  max_depth=5, min_samples_split=0.6, n_estimators=10, score=0.235, total=   0.0s\n",
      "[CV] max_depth=5, min_samples_split=0.6, n_estimators=10 .............\n",
      "[CV]  max_depth=5, min_samples_split=0.6, n_estimators=10, score=0.252, total=   0.0s\n",
      "[CV] max_depth=5, min_samples_split=0.6, n_estimators=10 .............\n",
      "[CV]  max_depth=5, min_samples_split=0.6, n_estimators=10, score=0.255, total=   0.0s\n",
      "[CV] max_depth=5, min_samples_split=0.6, n_estimators=100 ............\n",
      "[CV]  max_depth=5, min_samples_split=0.6, n_estimators=100, score=0.247, total=   0.2s\n",
      "[CV] max_depth=5, min_samples_split=0.6, n_estimators=100 ............\n",
      "[CV]  max_depth=5, min_samples_split=0.6, n_estimators=100, score=0.253, total=   0.2s\n",
      "[CV] max_depth=5, min_samples_split=0.6, n_estimators=100 ............\n",
      "[CV]  max_depth=5, min_samples_split=0.6, n_estimators=100, score=0.262, total=   0.2s\n",
      "[CV] max_depth=5, min_samples_split=0.6, n_estimators=1000 ...........\n",
      "[CV]  max_depth=5, min_samples_split=0.6, n_estimators=1000, score=0.245, total=   1.8s\n",
      "[CV] max_depth=5, min_samples_split=0.6, n_estimators=1000 ...........\n",
      "[CV]  max_depth=5, min_samples_split=0.6, n_estimators=1000, score=0.254, total=   1.7s\n",
      "[CV] max_depth=5, min_samples_split=0.6, n_estimators=1000 ...........\n",
      "[CV]  max_depth=5, min_samples_split=0.6, n_estimators=1000, score=0.259, total=   1.8s\n"
     ]
    },
    {
     "name": "stderr",
     "output_type": "stream",
     "text": [
      "[Parallel(n_jobs=1)]: Done 225 out of 225 | elapsed:  3.3min finished\n"
     ]
    },
    {
     "data": {
      "text/plain": [
       "GridSearchCV(cv='warn', error_score='raise-deprecating',\n",
       "             estimator=RandomForestRegressor(bootstrap=True, criterion='mse',\n",
       "                                             max_depth=None,\n",
       "                                             max_features='auto',\n",
       "                                             max_leaf_nodes=None,\n",
       "                                             min_impurity_decrease=0.0,\n",
       "                                             min_impurity_split=None,\n",
       "                                             min_samples_leaf=1,\n",
       "                                             min_samples_split=2,\n",
       "                                             min_weight_fraction_leaf=0.0,\n",
       "                                             n_estimators='warn', n_jobs=None,\n",
       "                                             oob_score=False, random_state=None,\n",
       "                                             verbose=0, warm_start=False),\n",
       "             iid='warn', n_jobs=None,\n",
       "             param_grid={'max_depth': range(1, 6),\n",
       "                         'min_samples_split': array([0.1  , 0.225, 0.35 , 0.475, 0.6  ]),\n",
       "                         'n_estimators': [10, 100, 1000]},\n",
       "             pre_dispatch='2*n_jobs', refit=True, return_train_score=False,\n",
       "             scoring=None, verbose=3)"
      ]
     },
     "execution_count": 106,
     "metadata": {},
     "output_type": "execute_result"
    }
   ],
   "source": [
    "grid.fit(X_train,y_train)"
   ]
  },
  {
   "cell_type": "code",
   "execution_count": 107,
   "id": "98395fa2-8a58-45ef-8087-1735811dc84b",
   "metadata": {},
   "outputs": [
    {
     "data": {
      "text/plain": [
       "{'max_depth': 5, 'min_samples_split': 0.1, 'n_estimators': 10}"
      ]
     },
     "execution_count": 107,
     "metadata": {},
     "output_type": "execute_result"
    }
   ],
   "source": [
    "grid.best_params_"
   ]
  },
  {
   "cell_type": "code",
   "execution_count": 108,
   "id": "9b78e61c-913c-45ce-a372-955d8fa4b500",
   "metadata": {},
   "outputs": [
    {
     "data": {
      "text/plain": [
       "RandomForestRegressor(bootstrap=True, criterion='mse', max_depth=5,\n",
       "                      max_features='auto', max_leaf_nodes=None,\n",
       "                      min_impurity_decrease=0.0, min_impurity_split=None,\n",
       "                      min_samples_leaf=1, min_samples_split=0.1,\n",
       "                      min_weight_fraction_leaf=0.0, n_estimators=10,\n",
       "                      n_jobs=None, oob_score=False, random_state=None,\n",
       "                      verbose=0, warm_start=False)"
      ]
     },
     "execution_count": 108,
     "metadata": {},
     "output_type": "execute_result"
    }
   ],
   "source": [
    "grid.best_estimator_"
   ]
  },
  {
   "cell_type": "code",
   "execution_count": 109,
   "id": "3225f141-e32c-4bf0-a59e-47997a9d1f2b",
   "metadata": {},
   "outputs": [
    {
     "data": {
      "text/plain": [
       "0.5895721900770649"
      ]
     },
     "execution_count": 109,
     "metadata": {},
     "output_type": "execute_result"
    }
   ],
   "source": [
    "grid.best_score_"
   ]
  },
  {
   "cell_type": "code",
   "execution_count": 110,
   "id": "fc656911-1b18-42c7-bf01-e1a64b6affb2",
   "metadata": {},
   "outputs": [],
   "source": [
    "grid_predict = grid.predict(X_test)"
   ]
  },
  {
   "cell_type": "code",
   "execution_count": 111,
   "id": "bb4e53fe-d425-4b5b-af13-73e1f8696792",
   "metadata": {},
   "outputs": [
    {
     "name": "stdout",
     "output_type": "stream",
     "text": [
      "0.5830775452938247\n",
      "790.5612647957961\n",
      "1116.7958770704736\n"
     ]
    }
   ],
   "source": [
    "print(r2_score(y_test,grid_predict))\n",
    "print(mean_absolute_error(y_test,grid_predict))\n",
    "print(mean_squared_error(y_test,grid_predict)**0.5)"
   ]
  },
  {
   "cell_type": "markdown",
   "id": "ba9d2c1d-3563-4867-8fe8-0a8d5349c8ac",
   "metadata": {},
   "source": [
    "final randomforest model with best parameter"
   ]
  },
  {
   "cell_type": "code",
   "execution_count": 112,
   "id": "1291d949-30ca-4bb9-a1d3-b871ac7b6ebd",
   "metadata": {},
   "outputs": [],
   "source": [
    "model = RandomForestRegressor(max_depth= 5,min_samples_split= 0.1,n_estimators= 10)"
   ]
  },
  {
   "cell_type": "code",
   "execution_count": 113,
   "id": "af93548d-3eec-417d-a21e-a322e96e1292",
   "metadata": {},
   "outputs": [
    {
     "data": {
      "text/plain": [
       "RandomForestRegressor(bootstrap=True, criterion='mse', max_depth=5,\n",
       "                      max_features='auto', max_leaf_nodes=None,\n",
       "                      min_impurity_decrease=0.0, min_impurity_split=None,\n",
       "                      min_samples_leaf=1, min_samples_split=0.1,\n",
       "                      min_weight_fraction_leaf=0.0, n_estimators=10,\n",
       "                      n_jobs=None, oob_score=False, random_state=None,\n",
       "                      verbose=0, warm_start=False)"
      ]
     },
     "execution_count": 113,
     "metadata": {},
     "output_type": "execute_result"
    }
   ],
   "source": [
    "model.fit(X_train,y_train)"
   ]
  },
  {
   "cell_type": "code",
   "execution_count": 114,
   "id": "cfb46f66-e04e-4329-8645-dc03d2f086c1",
   "metadata": {},
   "outputs": [],
   "source": [
    "final_predict = model.predict(X_test)"
   ]
  },
  {
   "cell_type": "code",
   "execution_count": 115,
   "id": "4df54e81-45bc-4888-b91c-a6f6c3d7b85c",
   "metadata": {},
   "outputs": [
    {
     "name": "stdout",
     "output_type": "stream",
     "text": [
      "r2score is : 0.5815792029104991\n"
     ]
    }
   ],
   "source": [
    "print(f\"r2score is : {r2_score(y_test,final_predict)}\")"
   ]
  },
  {
   "cell_type": "code",
   "execution_count": 116,
   "id": "8eb11cd2-3835-4565-9320-3437f0e9d763",
   "metadata": {},
   "outputs": [],
   "source": [
    "import joblib"
   ]
  },
  {
   "cell_type": "code",
   "execution_count": 117,
   "id": "65bae975-efd4-43cf-8c1f-21903345b165",
   "metadata": {},
   "outputs": [
    {
     "data": {
      "text/plain": [
       "['models/model.sav']"
      ]
     },
     "execution_count": 117,
     "metadata": {},
     "output_type": "execute_result"
    }
   ],
   "source": [
    "joblib.dump(model,'models/model.sav')"
   ]
  },
  {
   "cell_type": "code",
   "execution_count": 119,
   "id": "749b7494-2054-4b8b-a846-d5834732a210",
   "metadata": {},
   "outputs": [
    {
     "data": {
      "text/plain": [
       "['models/lr_model.sav']"
      ]
     },
     "execution_count": 119,
     "metadata": {},
     "output_type": "execute_result"
    }
   ],
   "source": [
    "joblib.dump(le,'models/lr_model.sav')"
   ]
  },
  {
   "cell_type": "code",
   "execution_count": 312,
   "id": "06e3a800-f0fd-4e1e-bc93-7d0a8aad94fc",
   "metadata": {},
   "outputs": [
    {
     "data": {
      "text/plain": [
       "['scaler.pkl']"
      ]
     },
     "execution_count": 312,
     "metadata": {},
     "output_type": "execute_result"
    }
   ],
   "source": [
    "joblib.dump(ss,'scaler.pkl')"
   ]
  },
  {
   "cell_type": "code",
   "execution_count": 313,
   "id": "0e2551ad-69bd-4297-a608-78818c8038a1",
   "metadata": {},
   "outputs": [
    {
     "data": {
      "text/plain": [
       "['rf_model.sav']"
      ]
     },
     "execution_count": 313,
     "metadata": {},
     "output_type": "execute_result"
    }
   ],
   "source": [
    "joblib.dump(model,'rf_model.sav')"
   ]
  },
  {
   "cell_type": "code",
   "execution_count": null,
   "id": "d077520f-a8d4-4383-8847-ed3e03809c4d",
   "metadata": {},
   "outputs": [],
   "source": []
  }
 ],
 "metadata": {
  "kernelspec": {
   "display_name": "Python 3",
   "language": "python",
   "name": "python3"
  },
  "language_info": {
   "codemirror_mode": {
    "name": "ipython",
    "version": 3
   },
   "file_extension": ".py",
   "mimetype": "text/x-python",
   "name": "python",
   "nbconvert_exporter": "python",
   "pygments_lexer": "ipython3",
   "version": "3.8.8"
  }
 },
 "nbformat": 4,
 "nbformat_minor": 5
}
